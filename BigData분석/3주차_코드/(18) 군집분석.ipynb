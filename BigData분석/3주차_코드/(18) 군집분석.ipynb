{
 "cells": [
  {
   "cell_type": "code",
   "execution_count": 2,
   "metadata": {},
   "outputs": [],
   "source": [
    "import pandas as pd\n",
    "import numpy as np\n",
    "import matplotlib.pyplot as plt\n",
    "import seaborn as sns\n",
    "from statsmodels.formula.api import ols\n",
    "from statsmodels.api import qqplot,add_constant\n",
    "import statsmodels.formula.api as smf\n",
    "from statsmodels.stats.outliers_influence import variance_inflation_factor\n",
    "from sklearn.linear_model import LinearRegression\n",
    "from sklearn.feature_selection import RFE\n",
    "from sklearn.preprocessing import StandardScaler\n",
    "from statsmodels.tools.eval_measures import rmse\n",
    "%matplotlib inline\n",
    "from sklearn.linear_model import Ridge,Lasso,ElasticNet\n",
    "from sklearn.model_selection import train_test_split\n",
    "import matplotlib\n",
    "from sklearn.tree import export_graphviz\n",
    "from sklearn.tree import DecisionTreeRegressor\n",
    "from sklearn.model_selection import GridSearchCV\n",
    "from sklearn.ensemble import RandomForestRegressor\n",
    "from sklearn.ensemble import GradientBoostingRegressor\n",
    "import graphviz\n",
    "from sklearn.metrics import mean_squared_error\n",
    "from sklearn.metrics import mean_absolute_error\n",
    "import warnings\n",
    "from sklearn.decomposition import PCA\n",
    "warnings.simplefilter('ignore')\n",
    "matplotlib.rc('font',family = 'AppleGothic')\n",
    "matplotlib.rc('axes',unicode_minus=False)\n",
    "import statsmodels.api as sm\n",
    "from datetime import datetime\n",
    "from statsmodels.graphics.tsaplots import plot_acf,plot_pacf\n",
    "from statsmodels.tsa.arima_model import ARIMA\n",
    "from statsmodels.api import Logit\n",
    "from sklearn.metrics import accuracy_score\n",
    "from sklearn.metrics import confusion_matrix\n",
    "from sklearn.tree import DecisionTreeClassifier\n",
    "from sklearn.ensemble import RandomForestClassifier\n",
    "from sklearn.ensemble import GradientBoostingClassifier\n",
    "from sklearn.svm import SVC\n",
    "from sklearn.neural_network import MLPClassifier\n",
    "from sklearn.neighbors import KNeighborsClassifier\n",
    "from sklearn.metrics import f1_score,roc_curve,auc\n",
    "from scipy.cluster.hierarchy import linkage, dendrogram, fcluster\n",
    "from sklearn.cluster import KMeans, DBSCAN"
   ]
  },
  {
   "cell_type": "markdown",
   "metadata": {},
   "source": [
    "# 군집분석"
   ]
  },
  {
   "cell_type": "markdown",
   "metadata": {},
   "source": [
    "## (1) 데이터 구성하기 "
   ]
  },
  {
   "cell_type": "code",
   "execution_count": 7,
   "metadata": {},
   "outputs": [
    {
     "data": {
      "text/html": [
       "<div>\n",
       "<style scoped>\n",
       "    .dataframe tbody tr th:only-of-type {\n",
       "        vertical-align: middle;\n",
       "    }\n",
       "\n",
       "    .dataframe tbody tr th {\n",
       "        vertical-align: top;\n",
       "    }\n",
       "\n",
       "    .dataframe thead th {\n",
       "        text-align: right;\n",
       "    }\n",
       "</style>\n",
       "<table border=\"1\" class=\"dataframe\">\n",
       "  <thead>\n",
       "    <tr style=\"text-align: right;\">\n",
       "      <th></th>\n",
       "      <th>EVAL</th>\n",
       "      <th>DISSATIS</th>\n",
       "      <th>PRIVILEGE</th>\n",
       "      <th>CHANCE</th>\n",
       "      <th>ADVANCE</th>\n",
       "      <th>CRITISM</th>\n",
       "      <th>PROMOTION</th>\n",
       "    </tr>\n",
       "  </thead>\n",
       "  <tbody>\n",
       "    <tr>\n",
       "      <th>0</th>\n",
       "      <td>43</td>\n",
       "      <td>51</td>\n",
       "      <td>30</td>\n",
       "      <td>39</td>\n",
       "      <td>61</td>\n",
       "      <td>92</td>\n",
       "      <td>45</td>\n",
       "    </tr>\n",
       "    <tr>\n",
       "      <th>1</th>\n",
       "      <td>63</td>\n",
       "      <td>64</td>\n",
       "      <td>51</td>\n",
       "      <td>54</td>\n",
       "      <td>63</td>\n",
       "      <td>73</td>\n",
       "      <td>47</td>\n",
       "    </tr>\n",
       "    <tr>\n",
       "      <th>2</th>\n",
       "      <td>71</td>\n",
       "      <td>70</td>\n",
       "      <td>68</td>\n",
       "      <td>69</td>\n",
       "      <td>76</td>\n",
       "      <td>86</td>\n",
       "      <td>48</td>\n",
       "    </tr>\n",
       "    <tr>\n",
       "      <th>3</th>\n",
       "      <td>61</td>\n",
       "      <td>63</td>\n",
       "      <td>45</td>\n",
       "      <td>47</td>\n",
       "      <td>54</td>\n",
       "      <td>84</td>\n",
       "      <td>35</td>\n",
       "    </tr>\n",
       "    <tr>\n",
       "      <th>4</th>\n",
       "      <td>81</td>\n",
       "      <td>78</td>\n",
       "      <td>56</td>\n",
       "      <td>66</td>\n",
       "      <td>71</td>\n",
       "      <td>83</td>\n",
       "      <td>47</td>\n",
       "    </tr>\n",
       "  </tbody>\n",
       "</table>\n",
       "</div>"
      ],
      "text/plain": [
       "   EVAL  DISSATIS  PRIVILEGE  CHANCE  ADVANCE  CRITISM  PROMOTION\n",
       "0    43        51         30      39       61       92         45\n",
       "1    63        64         51      54       63       73         47\n",
       "2    71        70         68      69       76       86         48\n",
       "3    61        63         45      47       54       84         35\n",
       "4    81        78         56      66       71       83         47"
      ]
     },
     "execution_count": 7,
     "metadata": {},
     "output_type": "execute_result"
    }
   ],
   "source": [
    "df_raw=pd.read_csv(\"/Users/lee/Week3/직무능력평가.csv\",engine=\"python\",encoding='cp949')\n",
    "df_raw.head(5)"
   ]
  },
  {
   "cell_type": "markdown",
   "metadata": {},
   "source": [
    "## (2) 데이터 전처리 (scaling) "
   ]
  },
  {
   "cell_type": "code",
   "execution_count": 18,
   "metadata": {},
   "outputs": [],
   "source": [
    "scaler= StandardScaler()\n",
    "df_raw_scaled = scaler.fit_transform(df_raw)\n",
    "df_raw_scaled[:5]\n",
    "\n",
    "df_raw_y=df_raw_scaled[:,0]\n",
    "df_raw_x=df_raw_scaled[:,1::]"
   ]
  },
  {
   "cell_type": "markdown",
   "metadata": {},
   "source": [
    "## (3) Dendrogram"
   ]
  },
  {
   "cell_type": "code",
   "execution_count": 19,
   "metadata": {},
   "outputs": [
    {
     "data": {
      "text/plain": [
       "Text(0, 0.5, 'Sample index')"
      ]
     },
     "execution_count": 19,
     "metadata": {},
     "output_type": "execute_result"
    },
    {
     "data": {
      "image/png": "[encoded data removed]",
      "text/plain": [
       "<Figure size 720x720 with 1 Axes>"
      ]
     },
     "metadata": {
      "needs_background": "light"
     },
     "output_type": "display_data"
    }
   ],
   "source": [
    "Z_ward = linkage(df_raw_x,method='ward',metric='euclidean')\n",
    "Z_average = linkage(df_raw_x,method='average',metric='euclidean')\n",
    "Z_Minkowski=linkage(df_raw_x,method='average',metric='minkowski')\n",
    "\n",
    "#덴드로 그램(연결:ward,거리계산:euclidean\n",
    "plt.figure(figsize=(10,10))\n",
    "ax=plt.subplot(111)\n",
    "dendrogram(Z_ward,leaf_font_size=10,orientation=\"right\")\n",
    "plt.title(\"Hierarchical Clustering Dendrogram\")\n",
    "plt.xlabel('distance');plt.ylabel('Sample index')"
   ]
  },
  {
   "cell_type": "code",
   "execution_count": 20,
   "metadata": {},
   "outputs": [
    {
     "data": {
      "text/plain": [
       "Text(0, 0.5, 'Sample index')"
      ]
     },
     "execution_count": 20,
     "metadata": {},
     "output_type": "execute_result"
    },
    {
     "data": {
      "image/png": "[encoded data removed]",
      "text/plain": [
       "<Figure size 432x288 with 1 Axes>"
      ]
     },
     "metadata": {
      "needs_background": "light"
     },
     "output_type": "display_data"
    }
   ],
   "source": [
    "dendrogram(Z_average,leaf_font_size=10,orientation=\"right\")\n",
    "plt.title(\"Hierarchical Clustering average\")\n",
    "plt.xlabel('distance');plt.ylabel('Sample index')"
   ]
  },
  {
   "cell_type": "code",
   "execution_count": 14,
   "metadata": {},
   "outputs": [
    {
     "data": {
      "text/plain": [
       "Text(0, 0.5, 'Sample index')"
      ]
     },
     "execution_count": 14,
     "metadata": {},
     "output_type": "execute_result"
    },
    {
     "data": {
      "image/png": "[encoded data removed]",
      "text/plain": [
       "<Figure size 432x288 with 1 Axes>"
      ]
     },
     "metadata": {
      "needs_background": "light"
     },
     "output_type": "display_data"
    }
   ],
   "source": [
    "dendrogram(Z_Minkowski,leaf_font_size=10,orientation=\"right\")\n",
    "plt.title(\"Hierarchical Clustering Minkowski\")\n",
    "plt.xlabel('distance');plt.ylabel('Sample index')"
   ]
  },
  {
   "cell_type": "markdown",
   "metadata": {},
   "source": [
    "## (4) 계층형 군집 생성"
   ]
  },
  {
   "cell_type": "code",
   "execution_count": 21,
   "metadata": {},
   "outputs": [
    {
     "data": {
      "text/html": [
       "<div>\n",
       "<style scoped>\n",
       "    .dataframe tbody tr th:only-of-type {\n",
       "        vertical-align: middle;\n",
       "    }\n",
       "\n",
       "    .dataframe tbody tr th {\n",
       "        vertical-align: top;\n",
       "    }\n",
       "\n",
       "    .dataframe thead th {\n",
       "        text-align: right;\n",
       "    }\n",
       "</style>\n",
       "<table border=\"1\" class=\"dataframe\">\n",
       "  <thead>\n",
       "    <tr style=\"text-align: right;\">\n",
       "      <th></th>\n",
       "      <th>EVAL</th>\n",
       "      <th>DISSATIS</th>\n",
       "      <th>PRIVILEGE</th>\n",
       "      <th>CHANCE</th>\n",
       "      <th>ADVANCE</th>\n",
       "      <th>CRITISM</th>\n",
       "      <th>PROMOTION</th>\n",
       "      <th>ClusterHierarchical</th>\n",
       "    </tr>\n",
       "  </thead>\n",
       "  <tbody>\n",
       "    <tr>\n",
       "      <th>0</th>\n",
       "      <td>43</td>\n",
       "      <td>51</td>\n",
       "      <td>30</td>\n",
       "      <td>39</td>\n",
       "      <td>61</td>\n",
       "      <td>92</td>\n",
       "      <td>45</td>\n",
       "      <td>1</td>\n",
       "    </tr>\n",
       "    <tr>\n",
       "      <th>1</th>\n",
       "      <td>63</td>\n",
       "      <td>64</td>\n",
       "      <td>51</td>\n",
       "      <td>54</td>\n",
       "      <td>63</td>\n",
       "      <td>73</td>\n",
       "      <td>47</td>\n",
       "      <td>5</td>\n",
       "    </tr>\n",
       "    <tr>\n",
       "      <th>2</th>\n",
       "      <td>71</td>\n",
       "      <td>70</td>\n",
       "      <td>68</td>\n",
       "      <td>69</td>\n",
       "      <td>76</td>\n",
       "      <td>86</td>\n",
       "      <td>48</td>\n",
       "      <td>3</td>\n",
       "    </tr>\n",
       "    <tr>\n",
       "      <th>3</th>\n",
       "      <td>61</td>\n",
       "      <td>63</td>\n",
       "      <td>45</td>\n",
       "      <td>47</td>\n",
       "      <td>54</td>\n",
       "      <td>84</td>\n",
       "      <td>35</td>\n",
       "      <td>1</td>\n",
       "    </tr>\n",
       "    <tr>\n",
       "      <th>4</th>\n",
       "      <td>81</td>\n",
       "      <td>78</td>\n",
       "      <td>56</td>\n",
       "      <td>66</td>\n",
       "      <td>71</td>\n",
       "      <td>83</td>\n",
       "      <td>47</td>\n",
       "      <td>3</td>\n",
       "    </tr>\n",
       "  </tbody>\n",
       "</table>\n",
       "</div>"
      ],
      "text/plain": [
       "   EVAL  DISSATIS  PRIVILEGE  CHANCE  ADVANCE  CRITISM  PROMOTION  \\\n",
       "0    43        51         30      39       61       92         45   \n",
       "1    63        64         51      54       63       73         47   \n",
       "2    71        70         68      69       76       86         48   \n",
       "3    61        63         45      47       54       84         35   \n",
       "4    81        78         56      66       71       83         47   \n",
       "\n",
       "   ClusterHierarchical  \n",
       "0                    1  \n",
       "1                    5  \n",
       "2                    3  \n",
       "3                    1  \n",
       "4                    3  "
      ]
     },
     "execution_count": 21,
     "metadata": {},
     "output_type": "execute_result"
    }
   ],
   "source": [
    "cluster_hierarchical = fcluster(Z=Z_ward,t=5,criterion='distance')\n",
    "df_raw[\"ClusterHierarchical\"]=cluster_hierarchical\n",
    "df_raw.head()"
   ]
  },
  {
   "cell_type": "markdown",
   "metadata": {},
   "source": [
    "## (5) 군집별 데이터 요약"
   ]
  },
  {
   "cell_type": "code",
   "execution_count": null,
   "metadata": {},
   "outputs": [],
   "source": [
    "ds_summary_hc = df_raw.groupby(\"ClusterHierarchical\").agg([\"min\",\"mean\",\"max\"])\n",
    "level0 = ds_summary_hc.columns.get_level_values(0)\n",
    "level1 = ds_summary_hc.columns.get_level_values(1)\n",
    "ds_summary_hc.columns=level0 + \"_\" + level1\n",
    "ds_summary_hc.reset_index(inplace=True)\n",
    "ds_summary_hc.round(3)"
   ]
  },
  {
   "cell_type": "markdown",
   "metadata": {},
   "source": [
    "## (6) K-평균 군집분석 : 군집 개수 찾기"
   ]
  },
  {
   "cell_type": "code",
   "execution_count": 29,
   "metadata": {},
   "outputs": [
    {
     "data": {
      "text/html": [
       "<div>\n",
       "<style scoped>\n",
       "    .dataframe tbody tr th:only-of-type {\n",
       "        vertical-align: middle;\n",
       "    }\n",
       "\n",
       "    .dataframe tbody tr th {\n",
       "        vertical-align: top;\n",
       "    }\n",
       "\n",
       "    .dataframe thead th {\n",
       "        text-align: right;\n",
       "    }\n",
       "</style>\n",
       "<table border=\"1\" class=\"dataframe\">\n",
       "  <thead>\n",
       "    <tr style=\"text-align: right;\">\n",
       "      <th></th>\n",
       "      <th>NumberofCluster</th>\n",
       "      <th>Error</th>\n",
       "    </tr>\n",
       "  </thead>\n",
       "  <tbody>\n",
       "    <tr>\n",
       "      <th>0</th>\n",
       "      <td>1</td>\n",
       "      <td>180.000000</td>\n",
       "    </tr>\n",
       "    <tr>\n",
       "      <th>1</th>\n",
       "      <td>2</td>\n",
       "      <td>114.082503</td>\n",
       "    </tr>\n",
       "    <tr>\n",
       "      <th>2</th>\n",
       "      <td>3</td>\n",
       "      <td>93.353633</td>\n",
       "    </tr>\n",
       "    <tr>\n",
       "      <th>3</th>\n",
       "      <td>4</td>\n",
       "      <td>79.362122</td>\n",
       "    </tr>\n",
       "    <tr>\n",
       "      <th>4</th>\n",
       "      <td>5</td>\n",
       "      <td>66.651824</td>\n",
       "    </tr>\n",
       "    <tr>\n",
       "      <th>5</th>\n",
       "      <td>6</td>\n",
       "      <td>56.632065</td>\n",
       "    </tr>\n",
       "    <tr>\n",
       "      <th>6</th>\n",
       "      <td>7</td>\n",
       "      <td>52.337694</td>\n",
       "    </tr>\n",
       "    <tr>\n",
       "      <th>7</th>\n",
       "      <td>8</td>\n",
       "      <td>43.658440</td>\n",
       "    </tr>\n",
       "    <tr>\n",
       "      <th>8</th>\n",
       "      <td>9</td>\n",
       "      <td>39.038004</td>\n",
       "    </tr>\n",
       "    <tr>\n",
       "      <th>9</th>\n",
       "      <td>10</td>\n",
       "      <td>32.345430</td>\n",
       "    </tr>\n",
       "    <tr>\n",
       "      <th>10</th>\n",
       "      <td>11</td>\n",
       "      <td>30.241363</td>\n",
       "    </tr>\n",
       "    <tr>\n",
       "      <th>11</th>\n",
       "      <td>12</td>\n",
       "      <td>26.487234</td>\n",
       "    </tr>\n",
       "    <tr>\n",
       "      <th>12</th>\n",
       "      <td>13</td>\n",
       "      <td>22.089663</td>\n",
       "    </tr>\n",
       "    <tr>\n",
       "      <th>13</th>\n",
       "      <td>14</td>\n",
       "      <td>19.948944</td>\n",
       "    </tr>\n",
       "    <tr>\n",
       "      <th>14</th>\n",
       "      <td>15</td>\n",
       "      <td>16.521828</td>\n",
       "    </tr>\n",
       "  </tbody>\n",
       "</table>\n",
       "</div>"
      ],
      "text/plain": [
       "    NumberofCluster       Error\n",
       "0                 1  180.000000\n",
       "1                 2  114.082503\n",
       "2                 3   93.353633\n",
       "3                 4   79.362122\n",
       "4                 5   66.651824\n",
       "5                 6   56.632065\n",
       "6                 7   52.337694\n",
       "7                 8   43.658440\n",
       "8                 9   39.038004\n",
       "9                10   32.345430\n",
       "10               11   30.241363\n",
       "11               12   26.487234\n",
       "12               13   22.089663\n",
       "13               14   19.948944\n",
       "14               15   16.521828"
      ]
     },
     "execution_count": 29,
     "metadata": {},
     "output_type": "execute_result"
    }
   ],
   "source": [
    "n_iter_cluster = 15\n",
    "cluster_range = [i+1 for i in range(n_iter_cluster)]\n",
    "clus_error=[]\n",
    "for v_n_clus in cluster_range:\n",
    "    clus=KMeans(v_n_clus)\n",
    "    clus.fit(df_raw_x)\n",
    "    clus_error.append(clus.inertia_)\n",
    "ds_error=pd.DataFrame({\"NumberofCluster\":cluster_range,\"Error\":clus_error})\n",
    "ds_error"
   ]
  },
  {
   "cell_type": "markdown",
   "metadata": {},
   "source": [
    "## (7) K-평균 군집분석 : 중심점까지 거리 제곱합ㅡ 시각화"
   ]
  },
  {
   "cell_type": "code",
   "execution_count": 31,
   "metadata": {},
   "outputs": [
    {
     "data": {
      "text/plain": [
       "Text(0, 0.5, ' Sum of squared distance')"
      ]
     },
     "execution_count": 31,
     "metadata": {},
     "output_type": "execute_result"
    },
    {
     "data": {
      "image/png": "[encoded data removed]",
      "text/plain": [
       "<Figure size 360x360 with 1 Axes>"
      ]
     },
     "metadata": {
      "needs_background": "light"
     },
     "output_type": "display_data"
    }
   ],
   "source": [
    "plt.figure(figsize=(5,5))\n",
    "plt.plot(ds_error[\"NumberofCluster\"],ds_error[\"Error\"])\n",
    "plt.title(\"Sum of squared distance\")\n",
    "plt.xlabel(\"Cluster\")\n",
    "plt.ylabel(\" Sum of squared distance\")"
   ]
  },
  {
   "cell_type": "markdown",
   "metadata": {},
   "source": [
    "## (8) K-평균 군집 번호 생성"
   ]
  },
  {
   "cell_type": "code",
   "execution_count": 32,
   "metadata": {},
   "outputs": [
    {
     "data": {
      "text/html": [
       "<div>\n",
       "<style scoped>\n",
       "    .dataframe tbody tr th:only-of-type {\n",
       "        vertical-align: middle;\n",
       "    }\n",
       "\n",
       "    .dataframe tbody tr th {\n",
       "        vertical-align: top;\n",
       "    }\n",
       "\n",
       "    .dataframe thead th {\n",
       "        text-align: right;\n",
       "    }\n",
       "</style>\n",
       "<table border=\"1\" class=\"dataframe\">\n",
       "  <thead>\n",
       "    <tr style=\"text-align: right;\">\n",
       "      <th></th>\n",
       "      <th>EVAL</th>\n",
       "      <th>DISSATIS</th>\n",
       "      <th>PRIVILEGE</th>\n",
       "      <th>CHANCE</th>\n",
       "      <th>ADVANCE</th>\n",
       "      <th>CRITISM</th>\n",
       "      <th>PROMOTION</th>\n",
       "      <th>ClusterHierarchical</th>\n",
       "      <th>ClusterKmeans</th>\n",
       "    </tr>\n",
       "  </thead>\n",
       "  <tbody>\n",
       "    <tr>\n",
       "      <th>0</th>\n",
       "      <td>43</td>\n",
       "      <td>51</td>\n",
       "      <td>30</td>\n",
       "      <td>39</td>\n",
       "      <td>61</td>\n",
       "      <td>92</td>\n",
       "      <td>45</td>\n",
       "      <td>1</td>\n",
       "      <td>2</td>\n",
       "    </tr>\n",
       "    <tr>\n",
       "      <th>1</th>\n",
       "      <td>63</td>\n",
       "      <td>64</td>\n",
       "      <td>51</td>\n",
       "      <td>54</td>\n",
       "      <td>63</td>\n",
       "      <td>73</td>\n",
       "      <td>47</td>\n",
       "      <td>5</td>\n",
       "      <td>2</td>\n",
       "    </tr>\n",
       "    <tr>\n",
       "      <th>2</th>\n",
       "      <td>71</td>\n",
       "      <td>70</td>\n",
       "      <td>68</td>\n",
       "      <td>69</td>\n",
       "      <td>76</td>\n",
       "      <td>86</td>\n",
       "      <td>48</td>\n",
       "      <td>3</td>\n",
       "      <td>3</td>\n",
       "    </tr>\n",
       "    <tr>\n",
       "      <th>3</th>\n",
       "      <td>61</td>\n",
       "      <td>63</td>\n",
       "      <td>45</td>\n",
       "      <td>47</td>\n",
       "      <td>54</td>\n",
       "      <td>84</td>\n",
       "      <td>35</td>\n",
       "      <td>1</td>\n",
       "      <td>2</td>\n",
       "    </tr>\n",
       "    <tr>\n",
       "      <th>4</th>\n",
       "      <td>81</td>\n",
       "      <td>78</td>\n",
       "      <td>56</td>\n",
       "      <td>66</td>\n",
       "      <td>71</td>\n",
       "      <td>83</td>\n",
       "      <td>47</td>\n",
       "      <td>3</td>\n",
       "      <td>3</td>\n",
       "    </tr>\n",
       "  </tbody>\n",
       "</table>\n",
       "</div>"
      ],
      "text/plain": [
       "   EVAL  DISSATIS  PRIVILEGE  CHANCE  ADVANCE  CRITISM  PROMOTION  \\\n",
       "0    43        51         30      39       61       92         45   \n",
       "1    63        64         51      54       63       73         47   \n",
       "2    71        70         68      69       76       86         48   \n",
       "3    61        63         45      47       54       84         35   \n",
       "4    81        78         56      66       71       83         47   \n",
       "\n",
       "   ClusterHierarchical  ClusterKmeans  \n",
       "0                    1              2  \n",
       "1                    5              2  \n",
       "2                    3              3  \n",
       "3                    1              2  \n",
       "4                    3              3  "
      ]
     },
     "execution_count": 32,
     "metadata": {},
     "output_type": "execute_result"
    }
   ],
   "source": [
    "clus=KMeans(5)\n",
    "clus.fit(df_raw_x)\n",
    "cluster_kmeans=[i+1 for i in clus.labels_]\n",
    "df_raw[\"ClusterKmeans\"]=cluster_kmeans\n",
    "df_raw.head()"
   ]
  },
  {
   "cell_type": "markdown",
   "metadata": {},
   "source": [
    "## (9) K-평균 군집별 데이터 요약"
   ]
  },
  {
   "cell_type": "code",
   "execution_count": 35,
   "metadata": {},
   "outputs": [
    {
     "data": {
      "text/html": [
       "<div>\n",
       "<style scoped>\n",
       "    .dataframe tbody tr th:only-of-type {\n",
       "        vertical-align: middle;\n",
       "    }\n",
       "\n",
       "    .dataframe tbody tr th {\n",
       "        vertical-align: top;\n",
       "    }\n",
       "\n",
       "    .dataframe thead th {\n",
       "        text-align: right;\n",
       "    }\n",
       "</style>\n",
       "<table border=\"1\" class=\"dataframe\">\n",
       "  <thead>\n",
       "    <tr style=\"text-align: right;\">\n",
       "      <th></th>\n",
       "      <th>ClusterKmeans</th>\n",
       "      <th>EVAL_min</th>\n",
       "      <th>EVAL_mean</th>\n",
       "      <th>EVAL_max</th>\n",
       "      <th>DISSATIS_min</th>\n",
       "      <th>DISSATIS_mean</th>\n",
       "      <th>DISSATIS_max</th>\n",
       "      <th>PRIVILEGE_min</th>\n",
       "      <th>PRIVILEGE_mean</th>\n",
       "      <th>PRIVILEGE_max</th>\n",
       "      <th>...</th>\n",
       "      <th>CHANCE_max</th>\n",
       "      <th>ADVANCE_min</th>\n",
       "      <th>ADVANCE_mean</th>\n",
       "      <th>ADVANCE_max</th>\n",
       "      <th>CRITISM_min</th>\n",
       "      <th>CRITISM_mean</th>\n",
       "      <th>CRITISM_max</th>\n",
       "      <th>PROMOTION_min</th>\n",
       "      <th>PROMOTION_mean</th>\n",
       "      <th>PROMOTION_max</th>\n",
       "    </tr>\n",
       "  </thead>\n",
       "  <tbody>\n",
       "    <tr>\n",
       "      <th>0</th>\n",
       "      <td>1</td>\n",
       "      <td>68</td>\n",
       "      <td>70.000</td>\n",
       "      <td>72</td>\n",
       "      <td>82</td>\n",
       "      <td>82.500</td>\n",
       "      <td>83</td>\n",
       "      <td>72</td>\n",
       "      <td>77.500</td>\n",
       "      <td>83</td>\n",
       "      <td>...</td>\n",
       "      <td>67</td>\n",
       "      <td>59</td>\n",
       "      <td>65.000</td>\n",
       "      <td>71</td>\n",
       "      <td>77</td>\n",
       "      <td>80.000</td>\n",
       "      <td>83</td>\n",
       "      <td>31</td>\n",
       "      <td>33.000</td>\n",
       "      <td>35</td>\n",
       "    </tr>\n",
       "    <tr>\n",
       "      <th>1</th>\n",
       "      <td>2</td>\n",
       "      <td>43</td>\n",
       "      <td>58.545</td>\n",
       "      <td>67</td>\n",
       "      <td>51</td>\n",
       "      <td>60.455</td>\n",
       "      <td>70</td>\n",
       "      <td>30</td>\n",
       "      <td>47.455</td>\n",
       "      <td>68</td>\n",
       "      <td>...</td>\n",
       "      <td>62</td>\n",
       "      <td>51</td>\n",
       "      <td>62.182</td>\n",
       "      <td>75</td>\n",
       "      <td>73</td>\n",
       "      <td>80.364</td>\n",
       "      <td>92</td>\n",
       "      <td>33</td>\n",
       "      <td>41.455</td>\n",
       "      <td>52</td>\n",
       "    </tr>\n",
       "    <tr>\n",
       "      <th>2</th>\n",
       "      <td>3</td>\n",
       "      <td>65</td>\n",
       "      <td>74.625</td>\n",
       "      <td>85</td>\n",
       "      <td>60</td>\n",
       "      <td>75.875</td>\n",
       "      <td>85</td>\n",
       "      <td>54</td>\n",
       "      <td>62.750</td>\n",
       "      <td>71</td>\n",
       "      <td>...</td>\n",
       "      <td>75</td>\n",
       "      <td>55</td>\n",
       "      <td>75.625</td>\n",
       "      <td>88</td>\n",
       "      <td>74</td>\n",
       "      <td>79.125</td>\n",
       "      <td>86</td>\n",
       "      <td>46</td>\n",
       "      <td>55.000</td>\n",
       "      <td>72</td>\n",
       "    </tr>\n",
       "    <tr>\n",
       "      <th>3</th>\n",
       "      <td>4</td>\n",
       "      <td>40</td>\n",
       "      <td>50.500</td>\n",
       "      <td>69</td>\n",
       "      <td>37</td>\n",
       "      <td>48.500</td>\n",
       "      <td>62</td>\n",
       "      <td>33</td>\n",
       "      <td>45.250</td>\n",
       "      <td>57</td>\n",
       "      <td>...</td>\n",
       "      <td>58</td>\n",
       "      <td>43</td>\n",
       "      <td>50.500</td>\n",
       "      <td>55</td>\n",
       "      <td>49</td>\n",
       "      <td>58.250</td>\n",
       "      <td>64</td>\n",
       "      <td>25</td>\n",
       "      <td>35.250</td>\n",
       "      <td>49</td>\n",
       "    </tr>\n",
       "    <tr>\n",
       "      <th>4</th>\n",
       "      <td>5</td>\n",
       "      <td>58</td>\n",
       "      <td>71.200</td>\n",
       "      <td>82</td>\n",
       "      <td>53</td>\n",
       "      <td>73.400</td>\n",
       "      <td>90</td>\n",
       "      <td>39</td>\n",
       "      <td>46.800</td>\n",
       "      <td>53</td>\n",
       "      <td>...</td>\n",
       "      <td>72</td>\n",
       "      <td>58</td>\n",
       "      <td>63.600</td>\n",
       "      <td>70</td>\n",
       "      <td>54</td>\n",
       "      <td>66.600</td>\n",
       "      <td>78</td>\n",
       "      <td>34</td>\n",
       "      <td>37.000</td>\n",
       "      <td>41</td>\n",
       "    </tr>\n",
       "  </tbody>\n",
       "</table>\n",
       "<p>5 rows × 22 columns</p>\n",
       "</div>"
      ],
      "text/plain": [
       "   ClusterKmeans  EVAL_min  EVAL_mean  EVAL_max  DISSATIS_min  DISSATIS_mean  \\\n",
       "0              1        68     70.000        72            82         82.500   \n",
       "1              2        43     58.545        67            51         60.455   \n",
       "2              3        65     74.625        85            60         75.875   \n",
       "3              4        40     50.500        69            37         48.500   \n",
       "4              5        58     71.200        82            53         73.400   \n",
       "\n",
       "   DISSATIS_max  PRIVILEGE_min  PRIVILEGE_mean  PRIVILEGE_max  ...  \\\n",
       "0            83             72          77.500             83  ...   \n",
       "1            70             30          47.455             68  ...   \n",
       "2            85             54          62.750             71  ...   \n",
       "3            62             33          45.250             57  ...   \n",
       "4            90             39          46.800             53  ...   \n",
       "\n",
       "   CHANCE_max  ADVANCE_min  ADVANCE_mean  ADVANCE_max  CRITISM_min  \\\n",
       "0          67           59        65.000           71           77   \n",
       "1          62           51        62.182           75           73   \n",
       "2          75           55        75.625           88           74   \n",
       "3          58           43        50.500           55           49   \n",
       "4          72           58        63.600           70           54   \n",
       "\n",
       "   CRITISM_mean  CRITISM_max  PROMOTION_min  PROMOTION_mean  PROMOTION_max  \n",
       "0        80.000           83             31          33.000             35  \n",
       "1        80.364           92             33          41.455             52  \n",
       "2        79.125           86             46          55.000             72  \n",
       "3        58.250           64             25          35.250             49  \n",
       "4        66.600           78             34          37.000             41  \n",
       "\n",
       "[5 rows x 22 columns]"
      ]
     },
     "execution_count": 35,
     "metadata": {},
     "output_type": "execute_result"
    }
   ],
   "source": [
    "ds_summary_km=df_raw.drop(\"ClusterHierarchical\",axis=1,inplace=False).groupby(\"ClusterKmeans\").agg([\"min\",\"mean\",\"max\"])\n",
    "level0=ds_summary_km.columns.get_level_values(0)\n",
    "level1=ds_summary_km.columns.get_level_values(1)\n",
    "\n",
    "ds_summary_km.columns=level0+\"_\"+level1\n",
    "ds_summary_km.reset_index(inplace=True)\n",
    "ds_summary_km.round(3)"
   ]
  },
  {
   "cell_type": "markdown",
   "metadata": {},
   "source": [
    "## (10) DBSCAN 군집분석"
   ]
  },
  {
   "cell_type": "code",
   "execution_count": 39,
   "metadata": {},
   "outputs": [
    {
     "data": {
      "image/png": "[encoded data removed]",
      "text/plain": [
       "<Figure size 1080x1080 with 24 Axes>"
      ]
     },
     "metadata": {
      "needs_background": "light"
     },
     "output_type": "display_data"
    }
   ],
   "source": [
    "X=df_raw[\"DISSATIS\"]\n",
    "Y=df_raw[\"CHANCE\"]\n",
    "markers=[\"o\",\"v\",\"^\",\"s\",\"<\",\">\",\"p\",\"D\"]\n",
    "para_eps=[k/10 for k in range(10,16,1)]\n",
    "para_min_sample = [2,3,4,5]\n",
    "fig,axes = plt.subplots(len(para_eps),len(para_min_sample),figsize=(15,15))\n",
    "fig.tight_layout(w_pad=1,h_pad=3)\n",
    "\n",
    "for i, eps in enumerate(para_eps):\n",
    "    for j, min_sample in enumerate(para_min_sample):\n",
    "        dbscan=DBSCAN(min_samples=min_sample,eps=eps)\n",
    "        clusters=dbscan.fit_predict(df_raw_x)\n",
    "        clusters=clusters + 1\n",
    "        for (n_clus,clus)in enumerate(range(min(clusters),max(clusters)+1,1)):\n",
    "            axes[i,j].scatter(X[clusters==clus],Y[clusters==clus],marker=markers[n_clus],s=100)\n",
    "            axes[i,j].set_title(\"eps=\"+str(eps)+\",min_sample=\"+str(min_sample)+\"\\n# of cluser =\"+str(max(clusters)),fontsize=15)"
   ]
  },
  {
   "cell_type": "code",
   "execution_count": 41,
   "metadata": {},
   "outputs": [
    {
     "data": {
      "text/html": [
       "<div>\n",
       "<style scoped>\n",
       "    .dataframe tbody tr th:only-of-type {\n",
       "        vertical-align: middle;\n",
       "    }\n",
       "\n",
       "    .dataframe tbody tr th {\n",
       "        vertical-align: top;\n",
       "    }\n",
       "\n",
       "    .dataframe thead th {\n",
       "        text-align: right;\n",
       "    }\n",
       "</style>\n",
       "<table border=\"1\" class=\"dataframe\">\n",
       "  <thead>\n",
       "    <tr style=\"text-align: right;\">\n",
       "      <th></th>\n",
       "      <th>EVAL</th>\n",
       "      <th>DISSATIS</th>\n",
       "      <th>PRIVILEGE</th>\n",
       "      <th>CHANCE</th>\n",
       "      <th>ADVANCE</th>\n",
       "      <th>CRITISM</th>\n",
       "      <th>PROMOTION</th>\n",
       "      <th>ClusterHierarchical</th>\n",
       "      <th>ClusterKmeans</th>\n",
       "      <th>ClusterDBScan</th>\n",
       "    </tr>\n",
       "  </thead>\n",
       "  <tbody>\n",
       "    <tr>\n",
       "      <th>0</th>\n",
       "      <td>43</td>\n",
       "      <td>51</td>\n",
       "      <td>30</td>\n",
       "      <td>39</td>\n",
       "      <td>61</td>\n",
       "      <td>92</td>\n",
       "      <td>45</td>\n",
       "      <td>1</td>\n",
       "      <td>2</td>\n",
       "      <td>0</td>\n",
       "    </tr>\n",
       "    <tr>\n",
       "      <th>1</th>\n",
       "      <td>63</td>\n",
       "      <td>64</td>\n",
       "      <td>51</td>\n",
       "      <td>54</td>\n",
       "      <td>63</td>\n",
       "      <td>73</td>\n",
       "      <td>47</td>\n",
       "      <td>5</td>\n",
       "      <td>2</td>\n",
       "      <td>1</td>\n",
       "    </tr>\n",
       "    <tr>\n",
       "      <th>2</th>\n",
       "      <td>71</td>\n",
       "      <td>70</td>\n",
       "      <td>68</td>\n",
       "      <td>69</td>\n",
       "      <td>76</td>\n",
       "      <td>86</td>\n",
       "      <td>48</td>\n",
       "      <td>3</td>\n",
       "      <td>3</td>\n",
       "      <td>2</td>\n",
       "    </tr>\n",
       "    <tr>\n",
       "      <th>3</th>\n",
       "      <td>61</td>\n",
       "      <td>63</td>\n",
       "      <td>45</td>\n",
       "      <td>47</td>\n",
       "      <td>54</td>\n",
       "      <td>84</td>\n",
       "      <td>35</td>\n",
       "      <td>1</td>\n",
       "      <td>2</td>\n",
       "      <td>1</td>\n",
       "    </tr>\n",
       "    <tr>\n",
       "      <th>4</th>\n",
       "      <td>81</td>\n",
       "      <td>78</td>\n",
       "      <td>56</td>\n",
       "      <td>66</td>\n",
       "      <td>71</td>\n",
       "      <td>83</td>\n",
       "      <td>47</td>\n",
       "      <td>3</td>\n",
       "      <td>3</td>\n",
       "      <td>2</td>\n",
       "    </tr>\n",
       "  </tbody>\n",
       "</table>\n",
       "</div>"
      ],
      "text/plain": [
       "   EVAL  DISSATIS  PRIVILEGE  CHANCE  ADVANCE  CRITISM  PROMOTION  \\\n",
       "0    43        51         30      39       61       92         45   \n",
       "1    63        64         51      54       63       73         47   \n",
       "2    71        70         68      69       76       86         48   \n",
       "3    61        63         45      47       54       84         35   \n",
       "4    81        78         56      66       71       83         47   \n",
       "\n",
       "   ClusterHierarchical  ClusterKmeans  ClusterDBScan  \n",
       "0                    1              2              0  \n",
       "1                    5              2              1  \n",
       "2                    3              3              2  \n",
       "3                    1              2              1  \n",
       "4                    3              3              2  "
      ]
     },
     "execution_count": 41,
     "metadata": {},
     "output_type": "execute_result"
    }
   ],
   "source": [
    "dbscan = DBSCAN(eps=1.4,min_samples=2).fit(df_raw_x)\n",
    "cluster_dbscan=dbscan.labels_\n",
    "\n",
    "for(i,val) in enumerate(cluster_dbscan):\n",
    "    if val < 0 :\n",
    "        cluster_dbscan[i]=0\n",
    "    else:\n",
    "        cluster_dbscan[i]=cluster_dbscan[i]+1\n",
    "df_raw[\"ClusterDBScan\"]=cluster_dbscan\n",
    "df_raw.head()"
   ]
  },
  {
   "cell_type": "code",
   "execution_count": null,
   "metadata": {},
   "outputs": [],
   "source": []
  },
  {
   "cell_type": "code",
   "execution_count": null,
   "metadata": {},
   "outputs": [],
   "source": []
  },
  {
   "cell_type": "code",
   "execution_count": null,
   "metadata": {},
   "outputs": [],
   "source": []
  },
  {
   "cell_type": "code",
   "execution_count": null,
   "metadata": {},
   "outputs": [],
   "source": []
  },
  {
   "cell_type": "code",
   "execution_count": null,
   "metadata": {},
   "outputs": [],
   "source": []
  }
 ],
 "metadata": {
  "kernelspec": {
   "display_name": "Python 3",
   "language": "python",
   "name": "python3"
  },
  "language_info": {
   "codemirror_mode": {
    "name": "ipython",
    "version": 3
   },
   "file_extension": ".py",
   "mimetype": "text/x-python",
   "name": "python",
   "nbconvert_exporter": "python",
   "pygments_lexer": "ipython3",
   "version": "3.8.5"
  }
 },
 "nbformat": 4,
 "nbformat_minor": 4
}
