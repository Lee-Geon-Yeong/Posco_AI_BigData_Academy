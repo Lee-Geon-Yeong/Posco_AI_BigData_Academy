{
 "cells": [
  {
   "cell_type": "code",
   "execution_count": 2,
   "metadata": {},
   "outputs": [],
   "source": [
    "import pandas as pd\n",
    "import numpy as np\n",
    "import matplotlib.pyplot as plt\n",
    "import seaborn as sns\n",
    "from statsmodels.formula.api import ols\n",
    "from statsmodels.api import qqplot,add_constant\n",
    "import statsmodels.formula.api as smf\n",
    "from statsmodels.stats.outliers_influence import variance_inflation_factor\n",
    "from sklearn.linear_model import LinearRegression\n",
    "from sklearn.feature_selection import RFE\n",
    "from sklearn.preprocessing import StandardScaler\n",
    "from statsmodels.tools.eval_measures import rmse\n",
    "%matplotlib inline\n",
    "from sklearn.linear_model import Ridge,Lasso,ElasticNet\n",
    "from sklearn.model_selection import train_test_split\n",
    "import matplotlib\n",
    "from sklearn.tree import export_graphviz\n",
    "from sklearn.tree import DecisionTreeRegressor\n",
    "from sklearn.model_selection import GridSearchCV\n",
    "from sklearn.ensemble import RandomForestRegressor\n",
    "from sklearn.ensemble import GradientBoostingRegressor\n",
    "import graphviz\n",
    "from sklearn.metrics import mean_squared_error\n",
    "from sklearn.metrics import mean_absolute_error\n",
    "import warnings\n",
    "from sklearn.decomposition import PCA\n",
    "warnings.simplefilter('ignore')\n",
    "matplotlib.rc('font',family = 'AppleGothic')\n",
    "matplotlib.rc('axes',unicode_minus=False)\n",
    "import statsmodels.api as sm\n",
    "from datetime import datetime\n",
    "from statsmodels.graphics.tsaplots import plot_acf,plot_pacf\n",
    "from statsmodels.tsa.arima_model import ARIMA\n",
    "from statsmodels.api import Logit\n",
    "from sklearn.metrics import accuracy_score\n",
    "from sklearn.metrics import confusion_matrix\n",
    "from sklearn.tree import DecisionTreeClassifier\n",
    "from sklearn.ensemble import RandomForestClassifier"
   ]
  },
  {
   "cell_type": "markdown",
   "metadata": {},
   "source": [
    "# 랜덤 포레스트 (분류)"
   ]
  },
  {
   "cell_type": "markdown",
   "metadata": {},
   "source": [
    "## 1. 데이터 구성하기"
   ]
  },
  {
   "cell_type": "code",
   "execution_count": 3,
   "metadata": {},
   "outputs": [
    {
     "data": {
      "text/html": [
       "<div>\n",
       "<style scoped>\n",
       "    .dataframe tbody tr th:only-of-type {\n",
       "        vertical-align: middle;\n",
       "    }\n",
       "\n",
       "    .dataframe tbody tr th {\n",
       "        vertical-align: top;\n",
       "    }\n",
       "\n",
       "    .dataframe thead th {\n",
       "        text-align: right;\n",
       "    }\n",
       "</style>\n",
       "<table border=\"1\" class=\"dataframe\">\n",
       "  <thead>\n",
       "    <tr style=\"text-align: right;\">\n",
       "      <th></th>\n",
       "      <th>BAD</th>\n",
       "      <th>LOAN</th>\n",
       "      <th>MORTDUE</th>\n",
       "      <th>VALUE</th>\n",
       "      <th>REASON</th>\n",
       "      <th>JOB</th>\n",
       "      <th>YOJ</th>\n",
       "      <th>DEROG</th>\n",
       "      <th>DELINQ</th>\n",
       "      <th>CLAGE</th>\n",
       "      <th>NINQ</th>\n",
       "      <th>CLNO</th>\n",
       "      <th>DEBTINC</th>\n",
       "    </tr>\n",
       "  </thead>\n",
       "  <tbody>\n",
       "    <tr>\n",
       "      <th>0</th>\n",
       "      <td>1</td>\n",
       "      <td>1700</td>\n",
       "      <td>30548</td>\n",
       "      <td>40320.0</td>\n",
       "      <td>HomeImp</td>\n",
       "      <td>Other</td>\n",
       "      <td>9.0</td>\n",
       "      <td>0</td>\n",
       "      <td>0.0</td>\n",
       "      <td>101.466002</td>\n",
       "      <td>1.0</td>\n",
       "      <td>8</td>\n",
       "      <td>37.113614</td>\n",
       "    </tr>\n",
       "    <tr>\n",
       "      <th>1</th>\n",
       "      <td>1</td>\n",
       "      <td>1800</td>\n",
       "      <td>28502</td>\n",
       "      <td>43034.0</td>\n",
       "      <td>HomeImp</td>\n",
       "      <td>Other</td>\n",
       "      <td>11.0</td>\n",
       "      <td>0</td>\n",
       "      <td>0.0</td>\n",
       "      <td>88.766030</td>\n",
       "      <td>0.0</td>\n",
       "      <td>8</td>\n",
       "      <td>36.884894</td>\n",
       "    </tr>\n",
       "    <tr>\n",
       "      <th>2</th>\n",
       "      <td>0</td>\n",
       "      <td>2300</td>\n",
       "      <td>102370</td>\n",
       "      <td>120953.0</td>\n",
       "      <td>HomeImp</td>\n",
       "      <td>Office</td>\n",
       "      <td>2.0</td>\n",
       "      <td>0</td>\n",
       "      <td>0.0</td>\n",
       "      <td>90.992533</td>\n",
       "      <td>0.0</td>\n",
       "      <td>13</td>\n",
       "      <td>31.588503</td>\n",
       "    </tr>\n",
       "    <tr>\n",
       "      <th>3</th>\n",
       "      <td>1</td>\n",
       "      <td>2400</td>\n",
       "      <td>34863</td>\n",
       "      <td>47471.0</td>\n",
       "      <td>HomeImp</td>\n",
       "      <td>Mgr</td>\n",
       "      <td>12.0</td>\n",
       "      <td>0</td>\n",
       "      <td>0.0</td>\n",
       "      <td>70.491080</td>\n",
       "      <td>1.0</td>\n",
       "      <td>21</td>\n",
       "      <td>38.263601</td>\n",
       "    </tr>\n",
       "    <tr>\n",
       "      <th>4</th>\n",
       "      <td>0</td>\n",
       "      <td>2400</td>\n",
       "      <td>98449</td>\n",
       "      <td>117195.0</td>\n",
       "      <td>HomeImp</td>\n",
       "      <td>Office</td>\n",
       "      <td>4.0</td>\n",
       "      <td>0</td>\n",
       "      <td>0.0</td>\n",
       "      <td>93.811775</td>\n",
       "      <td>0.0</td>\n",
       "      <td>13</td>\n",
       "      <td>29.681827</td>\n",
       "    </tr>\n",
       "    <tr>\n",
       "      <th>...</th>\n",
       "      <td>...</td>\n",
       "      <td>...</td>\n",
       "      <td>...</td>\n",
       "      <td>...</td>\n",
       "      <td>...</td>\n",
       "      <td>...</td>\n",
       "      <td>...</td>\n",
       "      <td>...</td>\n",
       "      <td>...</td>\n",
       "      <td>...</td>\n",
       "      <td>...</td>\n",
       "      <td>...</td>\n",
       "      <td>...</td>\n",
       "    </tr>\n",
       "    <tr>\n",
       "      <th>95</th>\n",
       "      <td>0</td>\n",
       "      <td>5800</td>\n",
       "      <td>75000</td>\n",
       "      <td>90543.0</td>\n",
       "      <td>DebtCon</td>\n",
       "      <td>Mgr</td>\n",
       "      <td>18.0</td>\n",
       "      <td>0</td>\n",
       "      <td>0.0</td>\n",
       "      <td>300.487206</td>\n",
       "      <td>1.0</td>\n",
       "      <td>23</td>\n",
       "      <td>38.940575</td>\n",
       "    </tr>\n",
       "    <tr>\n",
       "      <th>96</th>\n",
       "      <td>0</td>\n",
       "      <td>5800</td>\n",
       "      <td>79296</td>\n",
       "      <td>86885.0</td>\n",
       "      <td>DebtCon</td>\n",
       "      <td>Mgr</td>\n",
       "      <td>19.0</td>\n",
       "      <td>0</td>\n",
       "      <td>1.0</td>\n",
       "      <td>307.974882</td>\n",
       "      <td>1.0</td>\n",
       "      <td>23</td>\n",
       "      <td>39.959109</td>\n",
       "    </tr>\n",
       "    <tr>\n",
       "      <th>97</th>\n",
       "      <td>1</td>\n",
       "      <td>5800</td>\n",
       "      <td>27791</td>\n",
       "      <td>46833.0</td>\n",
       "      <td>DebtCon</td>\n",
       "      <td>Mgr</td>\n",
       "      <td>3.0</td>\n",
       "      <td>0</td>\n",
       "      <td>0.0</td>\n",
       "      <td>83.289063</td>\n",
       "      <td>1.0</td>\n",
       "      <td>13</td>\n",
       "      <td>30.187805</td>\n",
       "    </tr>\n",
       "    <tr>\n",
       "      <th>98</th>\n",
       "      <td>0</td>\n",
       "      <td>5800</td>\n",
       "      <td>172595</td>\n",
       "      <td>250155.0</td>\n",
       "      <td>DebtCon</td>\n",
       "      <td>Sales</td>\n",
       "      <td>NaN</td>\n",
       "      <td>0</td>\n",
       "      <td>0.0</td>\n",
       "      <td>126.400984</td>\n",
       "      <td>0.0</td>\n",
       "      <td>21</td>\n",
       "      <td>43.207760</td>\n",
       "    </tr>\n",
       "    <tr>\n",
       "      <th>99</th>\n",
       "      <td>0</td>\n",
       "      <td>5800</td>\n",
       "      <td>46595</td>\n",
       "      <td>58191.0</td>\n",
       "      <td>HomeImp</td>\n",
       "      <td>Other</td>\n",
       "      <td>5.0</td>\n",
       "      <td>0</td>\n",
       "      <td>0.0</td>\n",
       "      <td>80.131746</td>\n",
       "      <td>0.0</td>\n",
       "      <td>17</td>\n",
       "      <td>24.140154</td>\n",
       "    </tr>\n",
       "  </tbody>\n",
       "</table>\n",
       "<p>100 rows × 13 columns</p>\n",
       "</div>"
      ],
      "text/plain": [
       "    BAD  LOAN  MORTDUE     VALUE   REASON     JOB   YOJ  DEROG  DELINQ  \\\n",
       "0     1  1700    30548   40320.0  HomeImp   Other   9.0      0     0.0   \n",
       "1     1  1800    28502   43034.0  HomeImp   Other  11.0      0     0.0   \n",
       "2     0  2300   102370  120953.0  HomeImp  Office   2.0      0     0.0   \n",
       "3     1  2400    34863   47471.0  HomeImp     Mgr  12.0      0     0.0   \n",
       "4     0  2400    98449  117195.0  HomeImp  Office   4.0      0     0.0   \n",
       "..  ...   ...      ...       ...      ...     ...   ...    ...     ...   \n",
       "95    0  5800    75000   90543.0  DebtCon     Mgr  18.0      0     0.0   \n",
       "96    0  5800    79296   86885.0  DebtCon     Mgr  19.0      0     1.0   \n",
       "97    1  5800    27791   46833.0  DebtCon     Mgr   3.0      0     0.0   \n",
       "98    0  5800   172595  250155.0  DebtCon   Sales   NaN      0     0.0   \n",
       "99    0  5800    46595   58191.0  HomeImp   Other   5.0      0     0.0   \n",
       "\n",
       "         CLAGE  NINQ  CLNO    DEBTINC  \n",
       "0   101.466002   1.0     8  37.113614  \n",
       "1    88.766030   0.0     8  36.884894  \n",
       "2    90.992533   0.0    13  31.588503  \n",
       "3    70.491080   1.0    21  38.263601  \n",
       "4    93.811775   0.0    13  29.681827  \n",
       "..         ...   ...   ...        ...  \n",
       "95  300.487206   1.0    23  38.940575  \n",
       "96  307.974882   1.0    23  39.959109  \n",
       "97   83.289063   1.0    13  30.187805  \n",
       "98  126.400984   0.0    21  43.207760  \n",
       "99   80.131746   0.0    17  24.140154  \n",
       "\n",
       "[100 rows x 13 columns]"
      ]
     },
     "execution_count": 3,
     "metadata": {},
     "output_type": "execute_result"
    }
   ],
   "source": [
    "df_raw=pd.read_csv(\"/Users/lee/Week3/HMEQ.csv\",engine=\"python\",encoding='cp949')\n",
    "df_raw.head(100)"
   ]
  },
  {
   "cell_type": "markdown",
   "metadata": {},
   "source": [
    "## 2. 결측치 처리"
   ]
  },
  {
   "cell_type": "code",
   "execution_count": 4,
   "metadata": {},
   "outputs": [
    {
     "data": {
      "text/plain": [
       "BAD          0\n",
       "LOAN         0\n",
       "MORTDUE      0\n",
       "VALUE       14\n",
       "REASON       0\n",
       "JOB         81\n",
       "YOJ        205\n",
       "DEROG        0\n",
       "DELINQ      30\n",
       "CLAGE       37\n",
       "NINQ        56\n",
       "CLNO         0\n",
       "DEBTINC      0\n",
       "dtype: int64"
      ]
     },
     "execution_count": 4,
     "metadata": {},
     "output_type": "execute_result"
    }
   ],
   "source": [
    "#결측치 확인\n",
    "df_raw.isnull().sum(axis=0)"
   ]
  },
  {
   "cell_type": "code",
   "execution_count": 5,
   "metadata": {},
   "outputs": [],
   "source": [
    "df_raw[\"JOB\"].fillna(\"Other\",inplace=True)\n",
    "df_raw.fillna(df_raw.mean(),inplace=True)"
   ]
  },
  {
   "cell_type": "markdown",
   "metadata": {},
   "source": [
    "## 3. 더미변수 생성"
   ]
  },
  {
   "cell_type": "code",
   "execution_count": 6,
   "metadata": {},
   "outputs": [
    {
     "data": {
      "text/html": [
       "<div>\n",
       "<style scoped>\n",
       "    .dataframe tbody tr th:only-of-type {\n",
       "        vertical-align: middle;\n",
       "    }\n",
       "\n",
       "    .dataframe tbody tr th {\n",
       "        vertical-align: top;\n",
       "    }\n",
       "\n",
       "    .dataframe thead th {\n",
       "        text-align: right;\n",
       "    }\n",
       "</style>\n",
       "<table border=\"1\" class=\"dataframe\">\n",
       "  <thead>\n",
       "    <tr style=\"text-align: right;\">\n",
       "      <th></th>\n",
       "      <th>BAD</th>\n",
       "      <th>LOAN</th>\n",
       "      <th>MORTDUE</th>\n",
       "      <th>VALUE</th>\n",
       "      <th>YOJ</th>\n",
       "      <th>DEROG</th>\n",
       "      <th>DELINQ</th>\n",
       "      <th>CLAGE</th>\n",
       "      <th>NINQ</th>\n",
       "      <th>CLNO</th>\n",
       "      <th>DEBTINC</th>\n",
       "      <th>REASON_DebtCon</th>\n",
       "      <th>REASON_HomeImp</th>\n",
       "      <th>JOB_Mgr</th>\n",
       "      <th>JOB_Office</th>\n",
       "      <th>JOB_Other</th>\n",
       "      <th>JOB_ProfExe</th>\n",
       "      <th>JOB_Sales</th>\n",
       "      <th>JOB_Self</th>\n",
       "    </tr>\n",
       "  </thead>\n",
       "  <tbody>\n",
       "    <tr>\n",
       "      <th>0</th>\n",
       "      <td>1</td>\n",
       "      <td>1700</td>\n",
       "      <td>30548</td>\n",
       "      <td>40320.0</td>\n",
       "      <td>9.0</td>\n",
       "      <td>0</td>\n",
       "      <td>0.0</td>\n",
       "      <td>101.466002</td>\n",
       "      <td>1.0</td>\n",
       "      <td>8</td>\n",
       "      <td>37.113614</td>\n",
       "      <td>0</td>\n",
       "      <td>1</td>\n",
       "      <td>0</td>\n",
       "      <td>0</td>\n",
       "      <td>1</td>\n",
       "      <td>0</td>\n",
       "      <td>0</td>\n",
       "      <td>0</td>\n",
       "    </tr>\n",
       "    <tr>\n",
       "      <th>1</th>\n",
       "      <td>1</td>\n",
       "      <td>1800</td>\n",
       "      <td>28502</td>\n",
       "      <td>43034.0</td>\n",
       "      <td>11.0</td>\n",
       "      <td>0</td>\n",
       "      <td>0.0</td>\n",
       "      <td>88.766030</td>\n",
       "      <td>0.0</td>\n",
       "      <td>8</td>\n",
       "      <td>36.884894</td>\n",
       "      <td>0</td>\n",
       "      <td>1</td>\n",
       "      <td>0</td>\n",
       "      <td>0</td>\n",
       "      <td>1</td>\n",
       "      <td>0</td>\n",
       "      <td>0</td>\n",
       "      <td>0</td>\n",
       "    </tr>\n",
       "    <tr>\n",
       "      <th>2</th>\n",
       "      <td>0</td>\n",
       "      <td>2300</td>\n",
       "      <td>102370</td>\n",
       "      <td>120953.0</td>\n",
       "      <td>2.0</td>\n",
       "      <td>0</td>\n",
       "      <td>0.0</td>\n",
       "      <td>90.992533</td>\n",
       "      <td>0.0</td>\n",
       "      <td>13</td>\n",
       "      <td>31.588503</td>\n",
       "      <td>0</td>\n",
       "      <td>1</td>\n",
       "      <td>0</td>\n",
       "      <td>1</td>\n",
       "      <td>0</td>\n",
       "      <td>0</td>\n",
       "      <td>0</td>\n",
       "      <td>0</td>\n",
       "    </tr>\n",
       "    <tr>\n",
       "      <th>3</th>\n",
       "      <td>1</td>\n",
       "      <td>2400</td>\n",
       "      <td>34863</td>\n",
       "      <td>47471.0</td>\n",
       "      <td>12.0</td>\n",
       "      <td>0</td>\n",
       "      <td>0.0</td>\n",
       "      <td>70.491080</td>\n",
       "      <td>1.0</td>\n",
       "      <td>21</td>\n",
       "      <td>38.263601</td>\n",
       "      <td>0</td>\n",
       "      <td>1</td>\n",
       "      <td>1</td>\n",
       "      <td>0</td>\n",
       "      <td>0</td>\n",
       "      <td>0</td>\n",
       "      <td>0</td>\n",
       "      <td>0</td>\n",
       "    </tr>\n",
       "    <tr>\n",
       "      <th>4</th>\n",
       "      <td>0</td>\n",
       "      <td>2400</td>\n",
       "      <td>98449</td>\n",
       "      <td>117195.0</td>\n",
       "      <td>4.0</td>\n",
       "      <td>0</td>\n",
       "      <td>0.0</td>\n",
       "      <td>93.811775</td>\n",
       "      <td>0.0</td>\n",
       "      <td>13</td>\n",
       "      <td>29.681827</td>\n",
       "      <td>0</td>\n",
       "      <td>1</td>\n",
       "      <td>0</td>\n",
       "      <td>1</td>\n",
       "      <td>0</td>\n",
       "      <td>0</td>\n",
       "      <td>0</td>\n",
       "      <td>0</td>\n",
       "    </tr>\n",
       "  </tbody>\n",
       "</table>\n",
       "</div>"
      ],
      "text/plain": [
       "   BAD  LOAN  MORTDUE     VALUE   YOJ  DEROG  DELINQ       CLAGE  NINQ  CLNO  \\\n",
       "0    1  1700    30548   40320.0   9.0      0     0.0  101.466002   1.0     8   \n",
       "1    1  1800    28502   43034.0  11.0      0     0.0   88.766030   0.0     8   \n",
       "2    0  2300   102370  120953.0   2.0      0     0.0   90.992533   0.0    13   \n",
       "3    1  2400    34863   47471.0  12.0      0     0.0   70.491080   1.0    21   \n",
       "4    0  2400    98449  117195.0   4.0      0     0.0   93.811775   0.0    13   \n",
       "\n",
       "     DEBTINC  REASON_DebtCon  REASON_HomeImp  JOB_Mgr  JOB_Office  JOB_Other  \\\n",
       "0  37.113614               0               1        0           0          1   \n",
       "1  36.884894               0               1        0           0          1   \n",
       "2  31.588503               0               1        0           1          0   \n",
       "3  38.263601               0               1        1           0          0   \n",
       "4  29.681827               0               1        0           1          0   \n",
       "\n",
       "   JOB_ProfExe  JOB_Sales  JOB_Self  \n",
       "0            0          0         0  \n",
       "1            0          0         0  \n",
       "2            0          0         0  \n",
       "3            0          0         0  \n",
       "4            0          0         0  "
      ]
     },
     "execution_count": 6,
     "metadata": {},
     "output_type": "execute_result"
    }
   ],
   "source": [
    "df_raw_dummy=pd.get_dummies(df_raw)\n",
    "df_raw_dummy.head()"
   ]
  },
  {
   "cell_type": "code",
   "execution_count": 7,
   "metadata": {},
   "outputs": [],
   "source": [
    "df_raw=df_raw_dummy\n",
    "df_raw_y=df_raw[\"BAD\"]\n",
    "df_raw_x=df_raw.drop(\"BAD\",axis=1,inplace=False)"
   ]
  },
  {
   "cell_type": "markdown",
   "metadata": {},
   "source": [
    "## 4. 데이터 분할"
   ]
  },
  {
   "cell_type": "code",
   "execution_count": 8,
   "metadata": {},
   "outputs": [],
   "source": [
    "df_train_x,df_test_x,df_train_y,df_test_y=train_test_split(df_raw_x,df_raw_y,test_size=0.3,random_state=1234)"
   ]
  },
  {
   "cell_type": "markdown",
   "metadata": {},
   "source": [
    "## 5. 기본 옵션 모델 생성"
   ]
  },
  {
   "cell_type": "code",
   "execution_count": 9,
   "metadata": {},
   "outputs": [
    {
     "name": "stdout",
     "output_type": "stream",
     "text": [
      "정확도 Training Set : 1.000\n",
      "정확도 Test Set : 0.946\n"
     ]
    }
   ],
   "source": [
    "rf_uncustomized = RandomForestClassifier(random_state=1234)\n",
    "rf_uncustomized.fit(df_train_x,df_train_y)\n",
    "\n",
    "print(\"정확도 Training Set : {:.3f}\".format(rf_uncustomized.score(df_train_x,df_train_y)))\n",
    "print(\"정확도 Test Set : {:.3f}\".format(rf_uncustomized.score(df_test_x,df_test_y)))"
   ]
  },
  {
   "cell_type": "markdown",
   "metadata": {},
   "source": [
    "## 6. n-estimators 파라미터 조정"
   ]
  },
  {
   "cell_type": "code",
   "execution_count": 19,
   "metadata": {},
   "outputs": [],
   "source": [
    "train_accuracy=[];test_accuracy=[];\n",
    "para_n_tree= [n_tree*10 for n_tree in range(1,16)]\n",
    "\n",
    "for v_n_estimators in para_n_tree:\n",
    "    rf = RandomForestClassifier(n_estimators=v_n_estimators,random_state=1234)\n",
    "    rf.fit(df_train_x,df_train_y)\n",
    "    train_accuracy.append(rf.score(df_train_x,df_train_y))\n",
    "    test_accuracy.append(rf.score(df_test_x,df_test_y))\n",
    "rf_accuracy_n= pd.DataFrame()\n",
    "rf_accuracy_n[\"n_estimators\"]=para_n_tree\n",
    "rf_accuracy_n[\"Train Accuracy\"]=train_accuracy\n",
    "rf_accuracy_n[\"Test Accuracy\"]=test_accuracy"
   ]
  },
  {
   "cell_type": "code",
   "execution_count": 20,
   "metadata": {},
   "outputs": [
    {
     "data": {
      "text/plain": [
       "<matplotlib.legend.Legend at 0x7fddf6d50490>"
      ]
     },
     "execution_count": 20,
     "metadata": {},
     "output_type": "execute_result"
    },
    {
     "data": {
      "image/png": "[encoded data removed]",
      "text/plain": [
       "<Figure size 432x288 with 1 Axes>"
      ]
     },
     "metadata": {
      "needs_background": "light"
     },
     "output_type": "display_data"
    }
   ],
   "source": [
    "rf_accuracy_n.round(3)\n",
    "plt.plot(para_n_tree,train_accuracy,linestyle='-',label=\"Train Accuracy\")\n",
    "plt.plot(para_n_tree,test_accuracy,linestyle='--',label=\"TEST Accuracy\")\n",
    "plt.legend()"
   ]
  },
  {
   "cell_type": "markdown",
   "metadata": {},
   "source": [
    "## 7. max-depth 파라미터 조정"
   ]
  },
  {
   "cell_type": "code",
   "execution_count": 22,
   "metadata": {},
   "outputs": [],
   "source": [
    "train_accuracy=[];test_accuracy=[];\n",
    "para_depth= [depth for depth in range(1,11)]\n",
    "\n",
    "for v_max_depth in para_depth:\n",
    "    rf = RandomForestClassifier(max_depth = v_max_depth,n_estimators=60, random_state=1234)\n",
    "    rf.fit(df_train_x,df_train_y)\n",
    "    train_accuracy.append(rf.score(df_train_x,df_train_y))\n",
    "    test_accuracy.append(rf.score(df_test_x,df_test_y))\n",
    "rf_accuracy_depth= pd.DataFrame()\n",
    "rf_accuracy_depth[\"Depth\"]=para_depth\n",
    "rf_accuracy_depth[\"Train Accuracy\"]=train_accuracy\n",
    "rf_accuracy_depth[\"Test Accuracy\"]=test_accuracy"
   ]
  },
  {
   "cell_type": "code",
   "execution_count": 25,
   "metadata": {},
   "outputs": [
    {
     "data": {
      "text/plain": [
       "<matplotlib.legend.Legend at 0x7fddf6d3cc40>"
      ]
     },
     "execution_count": 25,
     "metadata": {},
     "output_type": "execute_result"
    },
    {
     "data": {
      "image/png": "[encoded data removed]",
      "text/plain": [
       "<Figure size 432x288 with 1 Axes>"
      ]
     },
     "metadata": {
      "needs_background": "light"
     },
     "output_type": "display_data"
    }
   ],
   "source": [
    "rf_accuracy_n.round(3)\n",
    "\n",
    "plt.plot(para_depth,train_accuracy,linestyle='-',label=\"Train Accuracy\")\n",
    "plt.plot(para_depth,test_accuracy,linestyle='--',label=\"TEST Accuracy\")\n",
    "plt.legend()"
   ]
  },
  {
   "cell_type": "markdown",
   "metadata": {},
   "source": [
    "## 8. min-samples-split 파라미터 조정"
   ]
  },
  {
   "cell_type": "code",
   "execution_count": 26,
   "metadata": {},
   "outputs": [],
   "source": [
    "train_accuracy=[];test_accuracy=[];\n",
    "para_split= [n_split*10 for n_split in range(1,11)]\n",
    "\n",
    "for v_min_samples_split in para_split:\n",
    "    rf = RandomForestClassifier(min_samples_split=v_min_samples_split,max_depth = 4,n_estimators=60, random_state=1234)\n",
    "    rf.fit(df_train_x,df_train_y)\n",
    "    train_accuracy.append(rf.score(df_train_x,df_train_y))\n",
    "    test_accuracy.append(rf.score(df_test_x,df_test_y))\n",
    "rf_accuracy_split= pd.DataFrame()\n",
    "rf_accuracy_split[\"Min_samples_split\"]=para_split\n",
    "rf_accuracy_split[\"Train Accuracy\"]=train_accuracy\n",
    "rf_accuracy_split[\"Test Accuracy\"]=test_accuracy"
   ]
  },
  {
   "cell_type": "code",
   "execution_count": 28,
   "metadata": {},
   "outputs": [
    {
     "data": {
      "text/plain": [
       "<matplotlib.legend.Legend at 0x7fddf6c95040>"
      ]
     },
     "execution_count": 28,
     "metadata": {},
     "output_type": "execute_result"
    },
    {
     "data": {
      "image/png": "[encoded data removed]",
      "text/plain": [
       "<Figure size 432x288 with 1 Axes>"
      ]
     },
     "metadata": {
      "needs_background": "light"
     },
     "output_type": "display_data"
    }
   ],
   "source": [
    "rf_accuracy_split.round(3)\n",
    "\n",
    "plt.plot(para_split,train_accuracy,linestyle='-',label=\"Train Accuracy\")\n",
    "plt.plot(para_split,test_accuracy,linestyle='--',label=\"TEST Accuracy\")\n",
    "plt.legend()"
   ]
  },
  {
   "cell_type": "markdown",
   "metadata": {},
   "source": [
    "## 9. min-samples-leaf 파라미터 조정"
   ]
  },
  {
   "cell_type": "code",
   "execution_count": 31,
   "metadata": {},
   "outputs": [],
   "source": [
    "train_accuracy=[];test_accuracy=[];\n",
    "para_leaf= [n_leaf*10 for n_leaf in range(1,11)]\n",
    "\n",
    "for v_min_samples_leaf in para_leaf:\n",
    "    rf = RandomForestClassifier(min_samples_leaf=v_min_samples_leaf,min_samples_split=30,max_depth = 4,n_estimators=60, random_state=1234)\n",
    "    rf.fit(df_train_x,df_train_y)\n",
    "    train_accuracy.append(rf.score(df_train_x,df_train_y))\n",
    "    test_accuracy.append(rf.score(df_test_x,df_test_y))\n",
    "rf_accuracy_leaf= pd.DataFrame()\n",
    "rf_accuracy_leaf[\"Min_samples_leaf\"]=para_leaf\n",
    "rf_accuracy_leaf[\"Train Accuracy\"]=train_accuracy\n",
    "rf_accuracy_leaf[\"Test Accuracy\"]=test_accuracy"
   ]
  },
  {
   "cell_type": "code",
   "execution_count": 32,
   "metadata": {},
   "outputs": [
    {
     "data": {
      "text/plain": [
       "<matplotlib.legend.Legend at 0x7fddf9092eb0>"
      ]
     },
     "execution_count": 32,
     "metadata": {},
     "output_type": "execute_result"
    },
    {
     "data": {
      "image/png": "[encoded data removed]",
      "text/plain": [
       "<Figure size 432x288 with 1 Axes>"
      ]
     },
     "metadata": {
      "needs_background": "light"
     },
     "output_type": "display_data"
    }
   ],
   "source": [
    "rf_accuracy_leaf.round(3)\n",
    "\n",
    "plt.plot(para_leaf,train_accuracy,linestyle='-',label=\"Train Accuracy\")\n",
    "plt.plot(para_leaf,test_accuracy,linestyle='--',label=\"TEST Accuracy\")\n",
    "plt.legend()"
   ]
  },
  {
   "cell_type": "markdown",
   "metadata": {},
   "source": [
    "## 9. 최종 모델 선택"
   ]
  },
  {
   "cell_type": "code",
   "execution_count": 46,
   "metadata": {},
   "outputs": [
    {
     "name": "stdout",
     "output_type": "stream",
     "text": [
      "Traning set 정확도 : 0.908\n",
      "TEST set 정확도 : 0.908\n",
      "Confusion matrix:\n",
      "[[1021    0]\n",
      " [ 104    0]]\n"
     ]
    }
   ],
   "source": [
    "rf_final=RandomForestClassifier(min_samples_leaf=50,min_samples_split=30,max_depth=4,n_estimators=60,random_state=1234)\n",
    "\n",
    "rf_final.fit(df_train_x,df_train_y)\n",
    "\n",
    "y_pred=rf_final.predict(df_test_x)\n",
    "\n",
    "print(\"Traning set 정확도 : {:.3f}\".format(rf_final.score(df_train_x,df_train_y)))\n",
    "print(\"TEST set 정확도 : {:.3f}\".format(rf_final.score(df_test_x,df_test_y)))\n",
    "print(\"Confusion matrix:\\n{}\".format(confusion_matrix(df_test_y,y_pred)))"
   ]
  },
  {
   "cell_type": "markdown",
   "metadata": {},
   "source": [
    "## 10. 설명 변수의 중요도"
   ]
  },
  {
   "cell_type": "code",
   "execution_count": 47,
   "metadata": {},
   "outputs": [
    {
     "data": {
      "text/plain": [
       "Text(0, 0.5, '설명변수')"
      ]
     },
     "execution_count": 47,
     "metadata": {},
     "output_type": "execute_result"
    },
    {
     "data": {
      "image/png": "[encoded data removed]",
      "text/plain": [
       "<Figure size 432x288 with 1 Axes>"
      ]
     },
     "metadata": {
      "needs_background": "light"
     },
     "output_type": "display_data"
    }
   ],
   "source": [
    "v_feature_name=df_train_x.columns\n",
    "\n",
    "df_importance=pd.DataFrame()\n",
    "df_importance[\"Feature\"]=v_feature_name\n",
    "df_importance[\"Importance\"]=rf_final.feature_importances_\n",
    "\n",
    "df_importance.sort_values(\"Importance\",ascending=True,inplace=True)\n",
    "coordinates=range(len(df_importance))\n",
    "plt.barh(y=coordinates,width=df_importance[\"Importance\"])\n",
    "plt.yticks(coordinates,df_importance[\"Feature\"])\n",
    "plt.xlabel(\"설명변수 중요도\")\n",
    "plt.ylabel(\"설명변수\")"
   ]
  },
  {
   "cell_type": "code",
   "execution_count": 57,
   "metadata": {},
   "outputs": [
    {
     "data": {
      "image/svg+xml": [
       "<?xml version=\"1.0\" encoding=\"UTF-8\" standalone=\"no\"?>\n",
       "<!DOCTYPE svg PUBLIC \"-//W3C//DTD SVG 1.1//EN\"\n",
       " \"http://www.w3.org/Graphics/SVG/1.1/DTD/svg11.dtd\">\n",
       "<!-- Generated by graphviz version 2.47.1 (20210417.1919)\n",
       " -->\n",
       "<!-- Title: Tree Pages: 1 -->\n",
       "<svg width=\"504pt\" height=\"477pt\"\n",
       " viewBox=\"0.00 0.00 503.50 477.00\" xmlns=\"http://www.w3.org/2000/svg\" xmlns:xlink=\"http://www.w3.org/1999/xlink\">\n",
       "<g id=\"graph0\" class=\"graph\" transform=\"scale(1 1) rotate(0) translate(4 473)\">\n",
       "<title>Tree</title>\n",
       "<polygon fill=\"white\" stroke=\"transparent\" points=\"-4,4 -4,-473 499.5,-473 499.5,4 -4,4\"/>\n",
       "<!-- 0 -->\n",
       "<g id=\"node1\" class=\"node\">\n",
       "<title>0</title>\n",
       "<polygon fill=\"#e88e4d\" stroke=\"black\" points=\"438.5,-469 301.5,-469 301.5,-401 438.5,-401 438.5,-469\"/>\n",
       "<text text-anchor=\"middle\" x=\"370\" y=\"-453.8\" font-family=\"Times,serif\" font-size=\"14.00\">DEBTINC &lt;= 45.155</text>\n",
       "<text text-anchor=\"middle\" x=\"370\" y=\"-438.8\" font-family=\"Times,serif\" font-size=\"14.00\">gini = 0.167</text>\n",
       "<text text-anchor=\"middle\" x=\"370\" y=\"-423.8\" font-family=\"Times,serif\" font-size=\"14.00\">samples = 2623</text>\n",
       "<text text-anchor=\"middle\" x=\"370\" y=\"-408.8\" font-family=\"Times,serif\" font-size=\"14.00\">value = [2382, 241]</text>\n",
       "</g>\n",
       "<!-- 1 -->\n",
       "<g id=\"node2\" class=\"node\">\n",
       "<title>1</title>\n",
       "<polygon fill=\"#e78b49\" stroke=\"black\" points=\"367.5,-365 242.5,-365 242.5,-297 367.5,-297 367.5,-365\"/>\n",
       "<text text-anchor=\"middle\" x=\"305\" y=\"-349.8\" font-family=\"Times,serif\" font-size=\"14.00\">DELINQ &lt;= 2.5</text>\n",
       "<text text-anchor=\"middle\" x=\"305\" y=\"-334.8\" font-family=\"Times,serif\" font-size=\"14.00\">gini = 0.138</text>\n",
       "<text text-anchor=\"middle\" x=\"305\" y=\"-319.8\" font-family=\"Times,serif\" font-size=\"14.00\">samples = 2571</text>\n",
       "<text text-anchor=\"middle\" x=\"305\" y=\"-304.8\" font-family=\"Times,serif\" font-size=\"14.00\">value = [2380, 191]</text>\n",
       "</g>\n",
       "<!-- 0&#45;&gt;1 -->\n",
       "<g id=\"edge1\" class=\"edge\">\n",
       "<title>0&#45;&gt;1</title>\n",
       "<path fill=\"none\" stroke=\"black\" d=\"M348.9,-400.88C343.39,-392.24 337.38,-382.82 331.63,-373.79\"/>\n",
       "<polygon fill=\"black\" stroke=\"black\" points=\"334.55,-371.85 326.22,-365.3 328.64,-375.61 334.55,-371.85\"/>\n",
       "<text text-anchor=\"middle\" x=\"320.81\" y=\"-386.01\" font-family=\"Times,serif\" font-size=\"14.00\">True</text>\n",
       "</g>\n",
       "<!-- 10 -->\n",
       "<g id=\"node11\" class=\"node\">\n",
       "<title>10</title>\n",
       "<polygon fill=\"#41a1e6\" stroke=\"black\" points=\"484,-357.5 386,-357.5 386,-304.5 484,-304.5 484,-357.5\"/>\n",
       "<text text-anchor=\"middle\" x=\"435\" y=\"-342.3\" font-family=\"Times,serif\" font-size=\"14.00\">gini = 0.074</text>\n",
       "<text text-anchor=\"middle\" x=\"435\" y=\"-327.3\" font-family=\"Times,serif\" font-size=\"14.00\">samples = 52</text>\n",
       "<text text-anchor=\"middle\" x=\"435\" y=\"-312.3\" font-family=\"Times,serif\" font-size=\"14.00\">value = [2, 50]</text>\n",
       "</g>\n",
       "<!-- 0&#45;&gt;10 -->\n",
       "<g id=\"edge10\" class=\"edge\">\n",
       "<title>0&#45;&gt;10</title>\n",
       "<path fill=\"none\" stroke=\"black\" d=\"M391.1,-400.88C398.18,-389.78 406.09,-377.37 413.22,-366.18\"/>\n",
       "<polygon fill=\"black\" stroke=\"black\" points=\"416.31,-367.83 418.74,-357.52 410.41,-364.07 416.31,-367.83\"/>\n",
       "<text text-anchor=\"middle\" x=\"424.15\" y=\"-378.23\" font-family=\"Times,serif\" font-size=\"14.00\">False</text>\n",
       "</g>\n",
       "<!-- 2 -->\n",
       "<g id=\"node3\" class=\"node\">\n",
       "<title>2</title>\n",
       "<polygon fill=\"#e78a47\" stroke=\"black\" points=\"301.5,-261 176.5,-261 176.5,-193 301.5,-193 301.5,-261\"/>\n",
       "<text text-anchor=\"middle\" x=\"239\" y=\"-245.8\" font-family=\"Times,serif\" font-size=\"14.00\">CLNO &lt;= 9.5</text>\n",
       "<text text-anchor=\"middle\" x=\"239\" y=\"-230.8\" font-family=\"Times,serif\" font-size=\"14.00\">gini = 0.123</text>\n",
       "<text text-anchor=\"middle\" x=\"239\" y=\"-215.8\" font-family=\"Times,serif\" font-size=\"14.00\">samples = 2501</text>\n",
       "<text text-anchor=\"middle\" x=\"239\" y=\"-200.8\" font-family=\"Times,serif\" font-size=\"14.00\">value = [2337, 164]</text>\n",
       "</g>\n",
       "<!-- 1&#45;&gt;2 -->\n",
       "<g id=\"edge2\" class=\"edge\">\n",
       "<title>1&#45;&gt;2</title>\n",
       "<path fill=\"none\" stroke=\"black\" d=\"M283.57,-296.88C277.98,-288.24 271.88,-278.82 266.04,-269.79\"/>\n",
       "<polygon fill=\"black\" stroke=\"black\" points=\"268.92,-267.79 260.55,-261.3 263.04,-271.6 268.92,-267.79\"/>\n",
       "</g>\n",
       "<!-- 9 -->\n",
       "<g id=\"node10\" class=\"node\">\n",
       "<title>9</title>\n",
       "<polygon fill=\"#f5d0b5\" stroke=\"black\" points=\"424.5,-253.5 319.5,-253.5 319.5,-200.5 424.5,-200.5 424.5,-253.5\"/>\n",
       "<text text-anchor=\"middle\" x=\"372\" y=\"-238.3\" font-family=\"Times,serif\" font-size=\"14.00\">gini = 0.474</text>\n",
       "<text text-anchor=\"middle\" x=\"372\" y=\"-223.3\" font-family=\"Times,serif\" font-size=\"14.00\">samples = 70</text>\n",
       "<text text-anchor=\"middle\" x=\"372\" y=\"-208.3\" font-family=\"Times,serif\" font-size=\"14.00\">value = [43, 27]</text>\n",
       "</g>\n",
       "<!-- 1&#45;&gt;9 -->\n",
       "<g id=\"edge9\" class=\"edge\">\n",
       "<title>1&#45;&gt;9</title>\n",
       "<path fill=\"none\" stroke=\"black\" d=\"M326.75,-296.88C334.05,-285.78 342.2,-273.37 349.55,-262.18\"/>\n",
       "<polygon fill=\"black\" stroke=\"black\" points=\"352.67,-263.8 355.24,-253.52 346.82,-259.96 352.67,-263.8\"/>\n",
       "</g>\n",
       "<!-- 3 -->\n",
       "<g id=\"node4\" class=\"node\">\n",
       "<title>3</title>\n",
       "<polygon fill=\"#eca36e\" stroke=\"black\" points=\"233.5,-157 96.5,-157 96.5,-89 233.5,-89 233.5,-157\"/>\n",
       "<text text-anchor=\"middle\" x=\"165\" y=\"-141.8\" font-family=\"Times,serif\" font-size=\"14.00\">DEBTINC &lt;= 33.034</text>\n",
       "<text text-anchor=\"middle\" x=\"165\" y=\"-126.8\" font-family=\"Times,serif\" font-size=\"14.00\">gini = 0.332</text>\n",
       "<text text-anchor=\"middle\" x=\"165\" y=\"-111.8\" font-family=\"Times,serif\" font-size=\"14.00\">samples = 171</text>\n",
       "<text text-anchor=\"middle\" x=\"165\" y=\"-96.8\" font-family=\"Times,serif\" font-size=\"14.00\">value = [135, 36]</text>\n",
       "</g>\n",
       "<!-- 2&#45;&gt;3 -->\n",
       "<g id=\"edge3\" class=\"edge\">\n",
       "<title>2&#45;&gt;3</title>\n",
       "<path fill=\"none\" stroke=\"black\" d=\"M214.97,-192.88C208.64,-184.15 201.73,-174.62 195.12,-165.51\"/>\n",
       "<polygon fill=\"black\" stroke=\"black\" points=\"197.86,-163.34 189.16,-157.3 192.2,-167.45 197.86,-163.34\"/>\n",
       "</g>\n",
       "<!-- 6 -->\n",
       "<g id=\"node7\" class=\"node\">\n",
       "<title>6</title>\n",
       "<polygon fill=\"#e78845\" stroke=\"black\" points=\"376.5,-157 251.5,-157 251.5,-89 376.5,-89 376.5,-157\"/>\n",
       "<text text-anchor=\"middle\" x=\"314\" y=\"-141.8\" font-family=\"Times,serif\" font-size=\"14.00\">NINQ &lt;= 3.5</text>\n",
       "<text text-anchor=\"middle\" x=\"314\" y=\"-126.8\" font-family=\"Times,serif\" font-size=\"14.00\">gini = 0.104</text>\n",
       "<text text-anchor=\"middle\" x=\"314\" y=\"-111.8\" font-family=\"Times,serif\" font-size=\"14.00\">samples = 2330</text>\n",
       "<text text-anchor=\"middle\" x=\"314\" y=\"-96.8\" font-family=\"Times,serif\" font-size=\"14.00\">value = [2202, 128]</text>\n",
       "</g>\n",
       "<!-- 2&#45;&gt;6 -->\n",
       "<g id=\"edge6\" class=\"edge\">\n",
       "<title>2&#45;&gt;6</title>\n",
       "<path fill=\"none\" stroke=\"black\" d=\"M263.35,-192.88C269.77,-184.15 276.78,-174.62 283.48,-165.51\"/>\n",
       "<polygon fill=\"black\" stroke=\"black\" points=\"286.41,-167.43 289.52,-157.3 280.77,-163.28 286.41,-167.43\"/>\n",
       "</g>\n",
       "<!-- 4 -->\n",
       "<g id=\"node5\" class=\"node\">\n",
       "<title>4</title>\n",
       "<polygon fill=\"#e88f4f\" stroke=\"black\" points=\"98,-53 0,-53 0,0 98,0 98,-53\"/>\n",
       "<text text-anchor=\"middle\" x=\"49\" y=\"-37.8\" font-family=\"Times,serif\" font-size=\"14.00\">gini = 0.18</text>\n",
       "<text text-anchor=\"middle\" x=\"49\" y=\"-22.8\" font-family=\"Times,serif\" font-size=\"14.00\">samples = 80</text>\n",
       "<text text-anchor=\"middle\" x=\"49\" y=\"-7.8\" font-family=\"Times,serif\" font-size=\"14.00\">value = [72, 8]</text>\n",
       "</g>\n",
       "<!-- 3&#45;&gt;4 -->\n",
       "<g id=\"edge4\" class=\"edge\">\n",
       "<title>3&#45;&gt;4</title>\n",
       "<path fill=\"none\" stroke=\"black\" d=\"M124.43,-88.95C112.75,-79.43 100.03,-69.07 88.42,-59.62\"/>\n",
       "<polygon fill=\"black\" stroke=\"black\" points=\"90.56,-56.84 80.59,-53.24 86.13,-62.27 90.56,-56.84\"/>\n",
       "</g>\n",
       "<!-- 5 -->\n",
       "<g id=\"node6\" class=\"node\">\n",
       "<title>5</title>\n",
       "<polygon fill=\"#f1b991\" stroke=\"black\" points=\"221.5,-53 116.5,-53 116.5,0 221.5,0 221.5,-53\"/>\n",
       "<text text-anchor=\"middle\" x=\"169\" y=\"-37.8\" font-family=\"Times,serif\" font-size=\"14.00\">gini = 0.426</text>\n",
       "<text text-anchor=\"middle\" x=\"169\" y=\"-22.8\" font-family=\"Times,serif\" font-size=\"14.00\">samples = 91</text>\n",
       "<text text-anchor=\"middle\" x=\"169\" y=\"-7.8\" font-family=\"Times,serif\" font-size=\"14.00\">value = [63, 28]</text>\n",
       "</g>\n",
       "<!-- 3&#45;&gt;5 -->\n",
       "<g id=\"edge5\" class=\"edge\">\n",
       "<title>3&#45;&gt;5</title>\n",
       "<path fill=\"none\" stroke=\"black\" d=\"M166.4,-88.95C166.75,-80.72 167.12,-71.85 167.48,-63.48\"/>\n",
       "<polygon fill=\"black\" stroke=\"black\" points=\"170.98,-63.38 167.91,-53.24 163.99,-63.08 170.98,-63.38\"/>\n",
       "</g>\n",
       "<!-- 7 -->\n",
       "<g id=\"node8\" class=\"node\">\n",
       "<title>7</title>\n",
       "<polygon fill=\"#e68743\" stroke=\"black\" points=\"372.5,-53 247.5,-53 247.5,0 372.5,0 372.5,-53\"/>\n",
       "<text text-anchor=\"middle\" x=\"310\" y=\"-37.8\" font-family=\"Times,serif\" font-size=\"14.00\">gini = 0.091</text>\n",
       "<text text-anchor=\"middle\" x=\"310\" y=\"-22.8\" font-family=\"Times,serif\" font-size=\"14.00\">samples = 2229</text>\n",
       "<text text-anchor=\"middle\" x=\"310\" y=\"-7.8\" font-family=\"Times,serif\" font-size=\"14.00\">value = [2123, 106]</text>\n",
       "</g>\n",
       "<!-- 6&#45;&gt;7 -->\n",
       "<g id=\"edge7\" class=\"edge\">\n",
       "<title>6&#45;&gt;7</title>\n",
       "<path fill=\"none\" stroke=\"black\" d=\"M312.6,-88.95C312.25,-80.72 311.88,-71.85 311.52,-63.48\"/>\n",
       "<polygon fill=\"black\" stroke=\"black\" points=\"315.01,-63.08 311.09,-53.24 308.02,-63.38 315.01,-63.08\"/>\n",
       "</g>\n",
       "<!-- 8 -->\n",
       "<g id=\"node9\" class=\"node\">\n",
       "<title>8</title>\n",
       "<polygon fill=\"#eca470\" stroke=\"black\" points=\"495.5,-53 390.5,-53 390.5,0 495.5,0 495.5,-53\"/>\n",
       "<text text-anchor=\"middle\" x=\"443\" y=\"-37.8\" font-family=\"Times,serif\" font-size=\"14.00\">gini = 0.341</text>\n",
       "<text text-anchor=\"middle\" x=\"443\" y=\"-22.8\" font-family=\"Times,serif\" font-size=\"14.00\">samples = 101</text>\n",
       "<text text-anchor=\"middle\" x=\"443\" y=\"-7.8\" font-family=\"Times,serif\" font-size=\"14.00\">value = [79, 22]</text>\n",
       "</g>\n",
       "<!-- 6&#45;&gt;8 -->\n",
       "<g id=\"edge8\" class=\"edge\">\n",
       "<title>6&#45;&gt;8</title>\n",
       "<path fill=\"none\" stroke=\"black\" d=\"M359.12,-88.95C372.23,-79.34 386.52,-68.87 399.53,-59.34\"/>\n",
       "<polygon fill=\"black\" stroke=\"black\" points=\"401.87,-61.97 407.87,-53.24 397.73,-56.32 401.87,-61.97\"/>\n",
       "</g>\n",
       "</g>\n",
       "</svg>\n"
      ],
      "text/plain": [
       "<graphviz.files.Source at 0x7fddd9814370>"
      ]
     },
     "metadata": {},
     "output_type": "display_data"
    }
   ],
   "source": [
    "rf_graph=DecisionTreeClassifier(min_samples_leaf=50,min_samples_split=30,max_depth=4,random_state=1234)\n",
    "rf_graph.fit(df_train_x,df_train_y)\n",
    "\n",
    "export_graphviz(rf_graph,out_file=\"rf_depth.dot\",\n",
    "               feature_names=v_feature_name,impurity=True,filled=True)\n",
    "with open(\"rf_depth.dot\")as f:\n",
    "    dot_graph=f.read()\n",
    "display(graphviz.Source(dot_graph))"
   ]
  },
  {
   "cell_type": "markdown",
   "metadata": {},
   "source": [
    "## 11. GRIDSEARCHCV"
   ]
  },
  {
   "cell_type": "markdown",
   "metadata": {},
   "source": []
  },
  {
   "cell_type": "markdown",
   "metadata": {},
   "source": []
  },
  {
   "cell_type": "markdown",
   "metadata": {},
   "source": []
  },
  {
   "cell_type": "markdown",
   "metadata": {},
   "source": []
  },
  {
   "cell_type": "markdown",
   "metadata": {},
   "source": []
  },
  {
   "cell_type": "markdown",
   "metadata": {},
   "source": []
  },
  {
   "cell_type": "markdown",
   "metadata": {},
   "source": []
  },
  {
   "cell_type": "markdown",
   "metadata": {},
   "source": []
  },
  {
   "cell_type": "markdown",
   "metadata": {},
   "source": []
  },
  {
   "cell_type": "code",
   "execution_count": null,
   "metadata": {},
   "outputs": [],
   "source": []
  },
  {
   "cell_type": "code",
   "execution_count": null,
   "metadata": {},
   "outputs": [],
   "source": []
  },
  {
   "cell_type": "code",
   "execution_count": null,
   "metadata": {},
   "outputs": [],
   "source": []
  }
 ],
 "metadata": {
  "kernelspec": {
   "display_name": "Python 3",
   "language": "python",
   "name": "python3"
  },
  "language_info": {
   "codemirror_mode": {
    "name": "ipython",
    "version": 3
   },
   "file_extension": ".py",
   "mimetype": "text/x-python",
   "name": "python",
   "nbconvert_exporter": "python",
   "pygments_lexer": "ipython3",
   "version": "3.8.5"
  }
 },
 "nbformat": 4,
 "nbformat_minor": 4
}
