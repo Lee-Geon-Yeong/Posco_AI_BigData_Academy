{
 "cells": [
  {
   "cell_type": "markdown",
   "metadata": {},
   "source": [
    "## 실습 1) 정규분포의 확률계산"
   ]
  },
  {
   "cell_type": "code",
   "execution_count": 44,
   "metadata": {},
   "outputs": [
    {
     "name": "stdout",
     "output_type": "stream",
     "text": [
      "9km 이상 15km 이하를 달릴 확률은 0.683에 해당함\n",
      "15km 이상을 달릴 확률은 0.159에 해당함\n"
     ]
    }
   ],
   "source": [
    "import statsmodels.api as sm\n",
    "# 누적확률 값 계산\n",
    "mu=12\n",
    "sigma=3\n",
    "x0=9\n",
    "x1=15\n",
    "# prob1 : 누적확률 15이하 값 계산\n",
    "# cdf : Cumulative Distribution Function, 누적 분포 함수\n",
    "prob1=stats.norm.cdf(x1, mu, sigma)\n",
    "prob2=stats.norm.cdf(x0, mu, sigma)\n",
    "print(\"{0}km 이상 {1}km 이하를 달릴 확률은 {2:.3f}에 해당함\".format(x0, x1, (prob1-prob2)))\n",
    "print(\"{0}km 이상을 달릴 확률은 {1:.3f}에 해당함\".format(x1, (1-prob1)))"
   ]
  },
  {
   "cell_type": "markdown",
   "metadata": {},
   "source": [
    "### 정규분포의 용도)\n",
    "#### - 수집된 자료의 분포를 근사하는데 자주 사용되며, 중심극한정리에 의하여 독립적인 확률변수들의 평균은 정규분포에 가까워지는 성질이 있다.\n",
    "### 정규분포의 특징)\n",
    "#### - 평균과 표준편차의 변화에 따라 정규분포는 다양한 모습으로 나타남\n",
    "#### - 위의 실습 1)에서 mu값을 변화시키면 분포 모양은 그대로, 중심값의 위치가 변화한다.\n",
    "#### - 실습 1)에서 sigma를 변화시키면 중심값은 그대로, 분포 모양이 변화한다.\n",
    "### 정규분포를 왜 할까? 정규분포로 알 수 있는 것)\n",
    "#### - 모집단의 특성을 알 때 정규분포로 특정 구간의 확률을 쉽게 알 수 있다."
   ]
  },
  {
   "cell_type": "markdown",
   "metadata": {},
   "source": [
    "## 실습 2) 포아송 분포"
   ]
  },
  {
   "cell_type": "code",
   "execution_count": 23,
   "metadata": {},
   "outputs": [
    {
     "name": "stdout",
     "output_type": "stream",
     "text": [
      "1시간에 2명의 손님이 도착할 확률: 0.2\n",
      "1시간에 1명 이하의 손님이 도착할 확률: 0.2\n",
      "1시간에 3명 이상의 손님이 도착할 확률: 0.6\n"
     ]
    }
   ],
   "source": [
    "import statsmodels.api as sm\n",
    "# 1시간에 평균 3명의 손님이 도착, mu=평균\n",
    "mu=3\n",
    "# 1시간에 2명의 손님이 도착할 확률\n",
    "# pdf : Probability Mass Function, 확률 질량 함수\n",
    "prob=stats.poisson.pmf(2, mu)\n",
    "# cdf : Cumulative Distribution Function, 누적 분포 함수\n",
    "cdf_prob=stats.poisson.cdf(1, mu)\n",
    "cdf_prob2=stats.poisson.cdf(2,mu)\n",
    "print(\"1시간에 {0}명의 손님이 도착할 확률: {1:.1f}\".format(2, prob))\n",
    "print(\"1시간에 {0}명 이하의 손님이 도착할 확률: {1:.1f}\".format(1, cdf_prob))\n",
    "print(\"1시간에 {0}명 이상의 손님이 도착할 확률: {1:.1f}\".format(3, 1-cdf_prob2))"
   ]
  },
  {
   "cell_type": "markdown",
   "metadata": {},
   "source": [
    "### 포아송 분포의 용도)\n",
    "#### - 일정한 시간 또는 일정한 공간에서 발생하는 성공횟수에 대한 이산확률분포\n",
    "### 포아송 분포의 특징)\n",
    "#### - 포아송 분포는 이산형(셀 수 있는)일 때 사용 가능하다. 만약 연속형이라면 사용 불가능하다.\n",
    "#### - 여기서 주의해야 할 점은, 이산형은 포함관계를 적용하고, 연속형은 포함관계를 적용하지 않는다. 연속형은 포함하든 안포함하든 구하\n",
    "####   고자 하는 면적의 크기는 변하지 않기 때문이다.\n",
    "### 포아송 분포를 왜 할까? 포아송 분포로 알 수 있는 것)\n",
    "#### - 일정 시간/공간에서의 사건 발생 확률 예측하기 위해"
   ]
  },
  {
   "cell_type": "markdown",
   "metadata": {},
   "source": [
    "## 실습 3) 정규성 검정"
   ]
  },
  {
   "cell_type": "code",
   "execution_count": 36,
   "metadata": {},
   "outputs": [
    {
     "name": "stdout",
     "output_type": "stream",
     "text": [
      "Shapiro-Wilk Test: statistic=0.9062638878822327, p-value=0.25630074739456177\n",
      "Shapiro-Wilk Test: statistic=0.9729756116867065, p-value=0.9169799089431763\n"
     ]
    }
   ],
   "source": [
    "from statsmodels.stats.proportion import proportions_ztest\n",
    "# df1=df.dropna()\n",
    "from scipy.stats import shapiro\n",
    "ds_sample=pd.read_csv(\"C:\\\\Users\\\\Administrator\\\\Untitled Folder\\\\statistics_1day/2sample_t_test.csv\", engine = \"python\")\n",
    "ds_sample=ds_sample.dropna()\n",
    "data1=ds_sample['Mat_A']\n",
    "# Mat_A 정규성 검정\n",
    "shapiro(data1)\n",
    "statistic, p=stats.shapiro(data1)\n",
    "print(\"Shapiro-Wilk Test: statistic={0}, p-value={1}\".format(statistic, p))\n",
    "\n",
    "data2=ds_sample['Mat_B']\n",
    "# Mat_B 정규성 검정\n",
    "shapiro(data2)\n",
    "# statistic은 검정 통계량(X값), p = p-value\n",
    "statistic, p=stats.shapiro(data2)\n",
    "print(\"Shapiro-Wilk Test: statistic={0}, p-value={1}\".format(statistic, p))\n"
   ]
  },
  {
   "cell_type": "markdown",
   "metadata": {},
   "source": [
    "### 정규성 검정의 용도)\n",
    "#### - 회귀 분석 등  일반적인 통계분석을 할 때 확률분포가 정규분포를 따르는지 아닌지를 확인하는 것이 중요하므로 정규성 검정을 한다.\n",
    "### 정규성 검정의 특징)\n",
    "#### -  t-test, ANOVA 등의 분석은 정규분포의 조건이 있기 때문에 분석하고자 하는 data 가 정규분포이면 t-test, ANOVA 를 분석할 수 있지\n",
    "#### 만, 정규성 가정을 만족하지 못하면 분석을 못하고 비모수 검정을 해야 한다.\n",
    "### 정규성 검정을 왜 할까? 정규성 검정으로 알 수 있는 것)\n",
    "#### - 정규성 검정 결과 신뢰범위 안에 존재하면, 모집단은 귀무가설을 따르고, 범위 내에 존재하지 않으면 모집단은 정규분포를 따르지 않는다.\n",
    "#### - 비정규성의 데이터를 분석하고 원인을 파악하고 개선점을 찾는 것이 중요하다.\n",
    "### #Shapiro-Wilk test\n",
    "#### 샤피로 검정의 특징\n",
    "#### - 정규분포에 특화된 검정\n",
    "#### -  n이 엄청 크지 않을때 사용하면 유용\n",
    "#### - 정규성 검정결과(95% 신뢰수준 사용시) p-value가 0.05보다 크면 정규, 0.05보다 작으면 비정규로 판단"
   ]
  },
  {
   "cell_type": "markdown",
   "metadata": {},
   "source": [
    "## 실습 4) 모평균 추정(모표준편차를 아는 경우)"
   ]
  },
  {
   "cell_type": "code",
   "execution_count": 38,
   "metadata": {},
   "outputs": [
    {
     "name": "stdout",
     "output_type": "stream",
     "text": [
      "신뢰구간: ([17.83], [21.17])\n"
     ]
    }
   ],
   "source": [
    "# df를 직접 입력\n",
    "df=pd.DataFrame({\"sample\": [18, 18, 20, 21, 20, 23, 19, 18, 17, 21, 22, 20, 20, 21, 20, 19, 19, 18, 17, 19]})\n",
    "\n",
    "# 정규분포 구간 추정 함수 실행\n",
    "lower, upper=stats.norm.interval(0.95, loc=np.mean(df), scale=3.8/np.sqrt(20))\n",
    "print(\"신뢰구간: ({0}, {1})\".format(lower.round(2), upper.round(2)))"
   ]
  },
  {
   "cell_type": "markdown",
   "metadata": {},
   "source": [
    "## 실습 5) 모평균 추정(모표준편차를 모르는 경우)"
   ]
  },
  {
   "cell_type": "code",
   "execution_count": 40,
   "metadata": {},
   "outputs": [
    {
     "name": "stdout",
     "output_type": "stream",
     "text": [
      "신뢰구간: ([70.6], [72.4])\n"
     ]
    }
   ],
   "source": [
    "# df를 직접 입력\n",
    "df=pd.DataFrame({\"sample\": [73, 71, 74, 69, 70, 73, 70, 68, 75, 72, 70, 72, 73, 70, 70, 72, 71, 70, 75, 72]})\n",
    "\n",
    "# 정규분포 구간 추정 함수 실행 \n",
    "lower, upper=stats.t.interval(0.95, len(df)-1, loc=np.mean(df), scale=scipy.stats.sem(df))\n",
    "print(\"신뢰구간: ({0}, {1})\".format(lower.round(2), upper.round(2)))"
   ]
  },
  {
   "cell_type": "markdown",
   "metadata": {},
   "source": [
    "### 모평균 신뢰구간 추정\n",
    "#### 모평균의 신뢰구간을 추정하는 방법은 두 가지가 있다.\n",
    "#### 먼저, 모수가 존재하리라고 생각되는 신뢰구간과 그 가능성을 나타내는 신뢰수준이 필요하다.\n",
    "#### 1) 모표준편차를 아는 경우\n",
    "####  이 예제에서는 우리가 모표준편차를 이미 알고 있다는 것인데 사실상 이런 경우는 매우 드물기 때문에 일반적인 경우 \n",
    "#### 표본으로부터 표준편차를 추정해야 한다.\n",
    "#### Z값에서 모평균의 값을 제외한 나머지 값을 대입하여 모평균의 신뢰구간을 추정한다.\n",
    "#### 2) 모표준편차를 모르는 경우\n",
    "#### 샘플링을 통한 표본을 추출하여 그 값으로부터 표본평균, 표본표준편차를 구하고 모평균값의 신뢰구간을 추정한다.\n",
    "#### 결국, 모평균의 신뢰구간 추정을 통해 알 수 있는 것은 표본데이터로 모평균의 범위를 어림잡아 알 수 있다는 것이다."
   ]
  },
  {
   "cell_type": "code",
   "execution_count": null,
   "metadata": {},
   "outputs": [],
   "source": []
  }
 ],
 "metadata": {
  "kernelspec": {
   "display_name": "Python 3",
   "language": "python",
   "name": "python3"
  },
  "language_info": {
   "codemirror_mode": {
    "name": "ipython",
    "version": 3
   },
   "file_extension": ".py",
   "mimetype": "text/x-python",
   "name": "python",
   "nbconvert_exporter": "python",
   "pygments_lexer": "ipython3",
   "version": "3.8.3"
  }
 },
 "nbformat": 4,
 "nbformat_minor": 4
}
