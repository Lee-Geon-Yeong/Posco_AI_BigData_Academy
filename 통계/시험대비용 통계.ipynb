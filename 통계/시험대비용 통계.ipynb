{
 "cells": [
  {
   "cell_type": "markdown",
   "metadata": {},
   "source": [
    "# 1. 기술통계"
   ]
  },
  {
   "cell_type": "code",
   "execution_count": 2,
   "metadata": {},
   "outputs": [],
   "source": [
    "import numpy as np\n",
    "from scipy import stats\n",
    "import scipy.stats\n",
    "import pandas as pd\n",
    "import statsmodels.api as sm\n",
    "import matplotlib.pyplot as plt\n",
    "import seaborn as sns\n",
    "from statsmodels.stats.proportion import proportions_ztest"
   ]
  },
  {
   "cell_type": "code",
   "execution_count": 3,
   "metadata": {},
   "outputs": [
    {
     "data": {
      "text/html": [
       "<div>\n",
       "<style scoped>\n",
       "    .dataframe tbody tr th:only-of-type {\n",
       "        vertical-align: middle;\n",
       "    }\n",
       "\n",
       "    .dataframe tbody tr th {\n",
       "        vertical-align: top;\n",
       "    }\n",
       "\n",
       "    .dataframe thead th {\n",
       "        text-align: right;\n",
       "    }\n",
       "</style>\n",
       "<table border=\"1\" class=\"dataframe\">\n",
       "  <thead>\n",
       "    <tr style=\"text-align: right;\">\n",
       "      <th></th>\n",
       "      <th>manufacturer</th>\n",
       "      <th>model</th>\n",
       "      <th>displacement</th>\n",
       "      <th>year</th>\n",
       "      <th>cylinder</th>\n",
       "      <th>automatic</th>\n",
       "      <th>driving</th>\n",
       "      <th>mpg</th>\n",
       "      <th>highway_mileage</th>\n",
       "      <th>fuel</th>\n",
       "      <th>class</th>\n",
       "    </tr>\n",
       "  </thead>\n",
       "  <tbody>\n",
       "    <tr>\n",
       "      <th>0</th>\n",
       "      <td>audi</td>\n",
       "      <td>a4</td>\n",
       "      <td>1.8</td>\n",
       "      <td>1999</td>\n",
       "      <td>4</td>\n",
       "      <td>auto</td>\n",
       "      <td>f</td>\n",
       "      <td>18</td>\n",
       "      <td>29</td>\n",
       "      <td>p</td>\n",
       "      <td>compact</td>\n",
       "    </tr>\n",
       "    <tr>\n",
       "      <th>1</th>\n",
       "      <td>audi</td>\n",
       "      <td>a4</td>\n",
       "      <td>1.8</td>\n",
       "      <td>1999</td>\n",
       "      <td>4</td>\n",
       "      <td>manual</td>\n",
       "      <td>f</td>\n",
       "      <td>21</td>\n",
       "      <td>29</td>\n",
       "      <td>p</td>\n",
       "      <td>compact</td>\n",
       "    </tr>\n",
       "    <tr>\n",
       "      <th>2</th>\n",
       "      <td>audi</td>\n",
       "      <td>a4</td>\n",
       "      <td>2.0</td>\n",
       "      <td>2008</td>\n",
       "      <td>4</td>\n",
       "      <td>manual</td>\n",
       "      <td>f</td>\n",
       "      <td>20</td>\n",
       "      <td>31</td>\n",
       "      <td>p</td>\n",
       "      <td>compact</td>\n",
       "    </tr>\n",
       "    <tr>\n",
       "      <th>3</th>\n",
       "      <td>audi</td>\n",
       "      <td>a4</td>\n",
       "      <td>2.0</td>\n",
       "      <td>2008</td>\n",
       "      <td>4</td>\n",
       "      <td>auto</td>\n",
       "      <td>f</td>\n",
       "      <td>21</td>\n",
       "      <td>30</td>\n",
       "      <td>p</td>\n",
       "      <td>compact</td>\n",
       "    </tr>\n",
       "    <tr>\n",
       "      <th>4</th>\n",
       "      <td>audi</td>\n",
       "      <td>a4</td>\n",
       "      <td>2.8</td>\n",
       "      <td>1999</td>\n",
       "      <td>6</td>\n",
       "      <td>auto</td>\n",
       "      <td>f</td>\n",
       "      <td>16</td>\n",
       "      <td>26</td>\n",
       "      <td>p</td>\n",
       "      <td>compact</td>\n",
       "    </tr>\n",
       "  </tbody>\n",
       "</table>\n",
       "</div>"
      ],
      "text/plain": [
       "  manufacturer model  displacement  year  cylinder automatic driving  mpg  \\\n",
       "0         audi    a4           1.8  1999         4      auto       f   18   \n",
       "1         audi    a4           1.8  1999         4    manual       f   21   \n",
       "2         audi    a4           2.0  2008         4    manual       f   20   \n",
       "3         audi    a4           2.0  2008         4      auto       f   21   \n",
       "4         audi    a4           2.8  1999         6      auto       f   16   \n",
       "\n",
       "   highway_mileage fuel    class  \n",
       "0               29    p  compact  \n",
       "1               29    p  compact  \n",
       "2               31    p  compact  \n",
       "3               30    p  compact  \n",
       "4               26    p  compact  "
      ]
     },
     "execution_count": 3,
     "metadata": {},
     "output_type": "execute_result"
    }
   ],
   "source": [
    "# 1) 자동처 연비 Data Set에서 기술통계치 구하기\n",
    "# mycars 데이터 가져오기(데이터 경로 확인: mycars.csv)\n",
    "ds_mycars=pd.read_csv(\"C:\\\\Users\\\\Administrator\\\\Untitled Folder\\\\statistics_1day/mycars.csv\", engine=\"python\")\n",
    "ds_mycars.head()"
   ]
  },
  {
   "cell_type": "code",
   "execution_count": 4,
   "metadata": {},
   "outputs": [
    {
     "data": {
      "text/html": [
       "<div>\n",
       "<style scoped>\n",
       "    .dataframe tbody tr th:only-of-type {\n",
       "        vertical-align: middle;\n",
       "    }\n",
       "\n",
       "    .dataframe tbody tr th {\n",
       "        vertical-align: top;\n",
       "    }\n",
       "\n",
       "    .dataframe thead th {\n",
       "        text-align: right;\n",
       "    }\n",
       "</style>\n",
       "<table border=\"1\" class=\"dataframe\">\n",
       "  <thead>\n",
       "    <tr style=\"text-align: right;\">\n",
       "      <th></th>\n",
       "      <th>manufacturer</th>\n",
       "      <th>model</th>\n",
       "      <th>displacement</th>\n",
       "      <th>year</th>\n",
       "      <th>cylinder</th>\n",
       "      <th>automatic</th>\n",
       "      <th>driving</th>\n",
       "      <th>mpg</th>\n",
       "      <th>highway_mileage</th>\n",
       "      <th>fuel</th>\n",
       "      <th>class</th>\n",
       "    </tr>\n",
       "  </thead>\n",
       "  <tbody>\n",
       "    <tr>\n",
       "      <th>count</th>\n",
       "      <td>234</td>\n",
       "      <td>234</td>\n",
       "      <td>234.000</td>\n",
       "      <td>234.00</td>\n",
       "      <td>234.000</td>\n",
       "      <td>234</td>\n",
       "      <td>234</td>\n",
       "      <td>234.000</td>\n",
       "      <td>234.000</td>\n",
       "      <td>234</td>\n",
       "      <td>234</td>\n",
       "    </tr>\n",
       "    <tr>\n",
       "      <th>unique</th>\n",
       "      <td>15</td>\n",
       "      <td>38</td>\n",
       "      <td>NaN</td>\n",
       "      <td>NaN</td>\n",
       "      <td>NaN</td>\n",
       "      <td>2</td>\n",
       "      <td>3</td>\n",
       "      <td>NaN</td>\n",
       "      <td>NaN</td>\n",
       "      <td>5</td>\n",
       "      <td>7</td>\n",
       "    </tr>\n",
       "    <tr>\n",
       "      <th>top</th>\n",
       "      <td>dodge</td>\n",
       "      <td>caravan 2wd</td>\n",
       "      <td>NaN</td>\n",
       "      <td>NaN</td>\n",
       "      <td>NaN</td>\n",
       "      <td>auto</td>\n",
       "      <td>f</td>\n",
       "      <td>NaN</td>\n",
       "      <td>NaN</td>\n",
       "      <td>r</td>\n",
       "      <td>suv</td>\n",
       "    </tr>\n",
       "    <tr>\n",
       "      <th>freq</th>\n",
       "      <td>37</td>\n",
       "      <td>11</td>\n",
       "      <td>NaN</td>\n",
       "      <td>NaN</td>\n",
       "      <td>NaN</td>\n",
       "      <td>157</td>\n",
       "      <td>106</td>\n",
       "      <td>NaN</td>\n",
       "      <td>NaN</td>\n",
       "      <td>168</td>\n",
       "      <td>62</td>\n",
       "    </tr>\n",
       "    <tr>\n",
       "      <th>mean</th>\n",
       "      <td>NaN</td>\n",
       "      <td>NaN</td>\n",
       "      <td>3.472</td>\n",
       "      <td>2003.50</td>\n",
       "      <td>5.889</td>\n",
       "      <td>NaN</td>\n",
       "      <td>NaN</td>\n",
       "      <td>16.859</td>\n",
       "      <td>23.440</td>\n",
       "      <td>NaN</td>\n",
       "      <td>NaN</td>\n",
       "    </tr>\n",
       "    <tr>\n",
       "      <th>std</th>\n",
       "      <td>NaN</td>\n",
       "      <td>NaN</td>\n",
       "      <td>1.292</td>\n",
       "      <td>4.51</td>\n",
       "      <td>1.612</td>\n",
       "      <td>NaN</td>\n",
       "      <td>NaN</td>\n",
       "      <td>4.256</td>\n",
       "      <td>5.955</td>\n",
       "      <td>NaN</td>\n",
       "      <td>NaN</td>\n",
       "    </tr>\n",
       "    <tr>\n",
       "      <th>min</th>\n",
       "      <td>NaN</td>\n",
       "      <td>NaN</td>\n",
       "      <td>1.600</td>\n",
       "      <td>1999.00</td>\n",
       "      <td>4.000</td>\n",
       "      <td>NaN</td>\n",
       "      <td>NaN</td>\n",
       "      <td>9.000</td>\n",
       "      <td>12.000</td>\n",
       "      <td>NaN</td>\n",
       "      <td>NaN</td>\n",
       "    </tr>\n",
       "    <tr>\n",
       "      <th>25%</th>\n",
       "      <td>NaN</td>\n",
       "      <td>NaN</td>\n",
       "      <td>2.400</td>\n",
       "      <td>1999.00</td>\n",
       "      <td>4.000</td>\n",
       "      <td>NaN</td>\n",
       "      <td>NaN</td>\n",
       "      <td>14.000</td>\n",
       "      <td>18.000</td>\n",
       "      <td>NaN</td>\n",
       "      <td>NaN</td>\n",
       "    </tr>\n",
       "    <tr>\n",
       "      <th>50%</th>\n",
       "      <td>NaN</td>\n",
       "      <td>NaN</td>\n",
       "      <td>3.300</td>\n",
       "      <td>2003.50</td>\n",
       "      <td>6.000</td>\n",
       "      <td>NaN</td>\n",
       "      <td>NaN</td>\n",
       "      <td>17.000</td>\n",
       "      <td>24.000</td>\n",
       "      <td>NaN</td>\n",
       "      <td>NaN</td>\n",
       "    </tr>\n",
       "    <tr>\n",
       "      <th>75%</th>\n",
       "      <td>NaN</td>\n",
       "      <td>NaN</td>\n",
       "      <td>4.600</td>\n",
       "      <td>2008.00</td>\n",
       "      <td>8.000</td>\n",
       "      <td>NaN</td>\n",
       "      <td>NaN</td>\n",
       "      <td>19.000</td>\n",
       "      <td>27.000</td>\n",
       "      <td>NaN</td>\n",
       "      <td>NaN</td>\n",
       "    </tr>\n",
       "    <tr>\n",
       "      <th>max</th>\n",
       "      <td>NaN</td>\n",
       "      <td>NaN</td>\n",
       "      <td>7.000</td>\n",
       "      <td>2008.00</td>\n",
       "      <td>8.000</td>\n",
       "      <td>NaN</td>\n",
       "      <td>NaN</td>\n",
       "      <td>35.000</td>\n",
       "      <td>44.000</td>\n",
       "      <td>NaN</td>\n",
       "      <td>NaN</td>\n",
       "    </tr>\n",
       "  </tbody>\n",
       "</table>\n",
       "</div>"
      ],
      "text/plain": [
       "       manufacturer        model  displacement     year  cylinder automatic  \\\n",
       "count           234          234       234.000   234.00   234.000       234   \n",
       "unique           15           38           NaN      NaN       NaN         2   \n",
       "top           dodge  caravan 2wd           NaN      NaN       NaN      auto   \n",
       "freq             37           11           NaN      NaN       NaN       157   \n",
       "mean            NaN          NaN         3.472  2003.50     5.889       NaN   \n",
       "std             NaN          NaN         1.292     4.51     1.612       NaN   \n",
       "min             NaN          NaN         1.600  1999.00     4.000       NaN   \n",
       "25%             NaN          NaN         2.400  1999.00     4.000       NaN   \n",
       "50%             NaN          NaN         3.300  2003.50     6.000       NaN   \n",
       "75%             NaN          NaN         4.600  2008.00     8.000       NaN   \n",
       "max             NaN          NaN         7.000  2008.00     8.000       NaN   \n",
       "\n",
       "       driving      mpg  highway_mileage fuel class  \n",
       "count      234  234.000          234.000  234   234  \n",
       "unique       3      NaN              NaN    5     7  \n",
       "top          f      NaN              NaN    r   suv  \n",
       "freq       106      NaN              NaN  168    62  \n",
       "mean       NaN   16.859           23.440  NaN   NaN  \n",
       "std        NaN    4.256            5.955  NaN   NaN  \n",
       "min        NaN    9.000           12.000  NaN   NaN  \n",
       "25%        NaN   14.000           18.000  NaN   NaN  \n",
       "50%        NaN   17.000           24.000  NaN   NaN  \n",
       "75%        NaN   19.000           27.000  NaN   NaN  \n",
       "max        NaN   35.000           44.000  NaN   NaN  "
      ]
     },
     "execution_count": 4,
     "metadata": {},
     "output_type": "execute_result"
    }
   ],
   "source": [
    "# 요약통계량\n",
    "ds_mycars.describe(include='all').round(3)"
   ]
  },
  {
   "cell_type": "code",
   "execution_count": 5,
   "metadata": {},
   "outputs": [
    {
     "data": {
      "text/html": [
       "<div>\n",
       "<style scoped>\n",
       "    .dataframe tbody tr th:only-of-type {\n",
       "        vertical-align: middle;\n",
       "    }\n",
       "\n",
       "    .dataframe tbody tr th {\n",
       "        vertical-align: top;\n",
       "    }\n",
       "\n",
       "    .dataframe thead tr th {\n",
       "        text-align: left;\n",
       "    }\n",
       "\n",
       "    .dataframe thead tr:last-of-type th {\n",
       "        text-align: right;\n",
       "    }\n",
       "</style>\n",
       "<table border=\"1\" class=\"dataframe\">\n",
       "  <thead>\n",
       "    <tr>\n",
       "      <th></th>\n",
       "      <th colspan=\"4\" halign=\"left\">model</th>\n",
       "    </tr>\n",
       "    <tr>\n",
       "      <th></th>\n",
       "      <th>count</th>\n",
       "      <th>unique</th>\n",
       "      <th>top</th>\n",
       "      <th>freq</th>\n",
       "    </tr>\n",
       "    <tr>\n",
       "      <th>mpg</th>\n",
       "      <th></th>\n",
       "      <th></th>\n",
       "      <th></th>\n",
       "      <th></th>\n",
       "    </tr>\n",
       "  </thead>\n",
       "  <tbody>\n",
       "    <tr>\n",
       "      <th>9</th>\n",
       "      <td>5</td>\n",
       "      <td>4</td>\n",
       "      <td>ram 1500 pickup 4wd</td>\n",
       "      <td>2</td>\n",
       "    </tr>\n",
       "    <tr>\n",
       "      <th>11</th>\n",
       "      <td>20</td>\n",
       "      <td>12</td>\n",
       "      <td>ram 1500 pickup 4wd</td>\n",
       "      <td>3</td>\n",
       "    </tr>\n",
       "    <tr>\n",
       "      <th>12</th>\n",
       "      <td>8</td>\n",
       "      <td>6</td>\n",
       "      <td>ram 1500 pickup 4wd</td>\n",
       "      <td>2</td>\n",
       "    </tr>\n",
       "    <tr>\n",
       "      <th>13</th>\n",
       "      <td>21</td>\n",
       "      <td>9</td>\n",
       "      <td>f150 pickup 4wd</td>\n",
       "      <td>4</td>\n",
       "    </tr>\n",
       "    <tr>\n",
       "      <th>14</th>\n",
       "      <td>19</td>\n",
       "      <td>10</td>\n",
       "      <td>dakota pickup 4wd</td>\n",
       "      <td>4</td>\n",
       "    </tr>\n",
       "    <tr>\n",
       "      <th>15</th>\n",
       "      <td>24</td>\n",
       "      <td>11</td>\n",
       "      <td>mustang</td>\n",
       "      <td>4</td>\n",
       "    </tr>\n",
       "    <tr>\n",
       "      <th>16</th>\n",
       "      <td>19</td>\n",
       "      <td>12</td>\n",
       "      <td>caravan 2wd</td>\n",
       "      <td>4</td>\n",
       "    </tr>\n",
       "    <tr>\n",
       "      <th>17</th>\n",
       "      <td>16</td>\n",
       "      <td>12</td>\n",
       "      <td>caravan 2wd</td>\n",
       "      <td>3</td>\n",
       "    </tr>\n",
       "    <tr>\n",
       "      <th>18</th>\n",
       "      <td>26</td>\n",
       "      <td>12</td>\n",
       "      <td>sonata</td>\n",
       "      <td>4</td>\n",
       "    </tr>\n",
       "    <tr>\n",
       "      <th>19</th>\n",
       "      <td>20</td>\n",
       "      <td>13</td>\n",
       "      <td>impreza awd</td>\n",
       "      <td>4</td>\n",
       "    </tr>\n",
       "    <tr>\n",
       "      <th>20</th>\n",
       "      <td>11</td>\n",
       "      <td>6</td>\n",
       "      <td>impreza awd</td>\n",
       "      <td>3</td>\n",
       "    </tr>\n",
       "    <tr>\n",
       "      <th>21</th>\n",
       "      <td>23</td>\n",
       "      <td>11</td>\n",
       "      <td>jetta</td>\n",
       "      <td>4</td>\n",
       "    </tr>\n",
       "    <tr>\n",
       "      <th>22</th>\n",
       "      <td>4</td>\n",
       "      <td>4</td>\n",
       "      <td>camry solara</td>\n",
       "      <td>1</td>\n",
       "    </tr>\n",
       "    <tr>\n",
       "      <th>23</th>\n",
       "      <td>3</td>\n",
       "      <td>2</td>\n",
       "      <td>altima</td>\n",
       "      <td>2</td>\n",
       "    </tr>\n",
       "    <tr>\n",
       "      <th>24</th>\n",
       "      <td>5</td>\n",
       "      <td>2</td>\n",
       "      <td>civic</td>\n",
       "      <td>3</td>\n",
       "    </tr>\n",
       "    <tr>\n",
       "      <th>25</th>\n",
       "      <td>2</td>\n",
       "      <td>1</td>\n",
       "      <td>civic</td>\n",
       "      <td>2</td>\n",
       "    </tr>\n",
       "    <tr>\n",
       "      <th>26</th>\n",
       "      <td>3</td>\n",
       "      <td>2</td>\n",
       "      <td>corolla</td>\n",
       "      <td>2</td>\n",
       "    </tr>\n",
       "    <tr>\n",
       "      <th>28</th>\n",
       "      <td>2</td>\n",
       "      <td>2</td>\n",
       "      <td>civic</td>\n",
       "      <td>1</td>\n",
       "    </tr>\n",
       "    <tr>\n",
       "      <th>29</th>\n",
       "      <td>1</td>\n",
       "      <td>1</td>\n",
       "      <td>new beetle</td>\n",
       "      <td>1</td>\n",
       "    </tr>\n",
       "    <tr>\n",
       "      <th>33</th>\n",
       "      <td>1</td>\n",
       "      <td>1</td>\n",
       "      <td>jetta</td>\n",
       "      <td>1</td>\n",
       "    </tr>\n",
       "    <tr>\n",
       "      <th>35</th>\n",
       "      <td>1</td>\n",
       "      <td>1</td>\n",
       "      <td>new beetle</td>\n",
       "      <td>1</td>\n",
       "    </tr>\n",
       "  </tbody>\n",
       "</table>\n",
       "</div>"
      ],
      "text/plain": [
       "    model                                 \n",
       "    count unique                  top freq\n",
       "mpg                                       \n",
       "9       5      4  ram 1500 pickup 4wd    2\n",
       "11     20     12  ram 1500 pickup 4wd    3\n",
       "12      8      6  ram 1500 pickup 4wd    2\n",
       "13     21      9      f150 pickup 4wd    4\n",
       "14     19     10    dakota pickup 4wd    4\n",
       "15     24     11              mustang    4\n",
       "16     19     12          caravan 2wd    4\n",
       "17     16     12          caravan 2wd    3\n",
       "18     26     12               sonata    4\n",
       "19     20     13          impreza awd    4\n",
       "20     11      6          impreza awd    3\n",
       "21     23     11                jetta    4\n",
       "22      4      4         camry solara    1\n",
       "23      3      2               altima    2\n",
       "24      5      2                civic    3\n",
       "25      2      1                civic    2\n",
       "26      3      2              corolla    2\n",
       "28      2      2                civic    1\n",
       "29      1      1           new beetle    1\n",
       "33      1      1                jetta    1\n",
       "35      1      1           new beetle    1"
      ]
     },
     "execution_count": 5,
     "metadata": {},
     "output_type": "execute_result"
    }
   ],
   "source": [
    "# 자동차 모델별, mpg 데이터 subset\n",
    "df=ds_mycars[['model', 'mpg']]\n",
    "# 모델 별 데이터 수 평균 표준편차\n",
    "df.groupby('mpg').describe()"
   ]
  },
  {
   "cell_type": "code",
   "execution_count": 6,
   "metadata": {},
   "outputs": [
    {
     "data": {
      "text/html": [
       "<div>\n",
       "<style scoped>\n",
       "    .dataframe tbody tr th:only-of-type {\n",
       "        vertical-align: middle;\n",
       "    }\n",
       "\n",
       "    .dataframe tbody tr th {\n",
       "        vertical-align: top;\n",
       "    }\n",
       "\n",
       "    .dataframe thead th {\n",
       "        text-align: right;\n",
       "    }\n",
       "</style>\n",
       "<table border=\"1\" class=\"dataframe\">\n",
       "  <thead>\n",
       "    <tr style=\"text-align: right;\">\n",
       "      <th>Flaws</th>\n",
       "      <th>Count</th>\n",
       "      <th>CumCnt</th>\n",
       "      <th>Percent</th>\n",
       "      <th>CumPct:</th>\n",
       "    </tr>\n",
       "  </thead>\n",
       "  <tbody>\n",
       "    <tr>\n",
       "      <th>Other</th>\n",
       "      <td>6</td>\n",
       "      <td>6</td>\n",
       "      <td>15.0</td>\n",
       "      <td>15.0</td>\n",
       "    </tr>\n",
       "    <tr>\n",
       "      <th>Peel</th>\n",
       "      <td>15</td>\n",
       "      <td>21</td>\n",
       "      <td>37.5</td>\n",
       "      <td>52.5</td>\n",
       "    </tr>\n",
       "    <tr>\n",
       "      <th>Scratch</th>\n",
       "      <td>13</td>\n",
       "      <td>34</td>\n",
       "      <td>32.5</td>\n",
       "      <td>85.0</td>\n",
       "    </tr>\n",
       "    <tr>\n",
       "      <th>Smudge</th>\n",
       "      <td>6</td>\n",
       "      <td>40</td>\n",
       "      <td>15.0</td>\n",
       "      <td>100.0</td>\n",
       "    </tr>\n",
       "  </tbody>\n",
       "</table>\n",
       "</div>"
      ],
      "text/plain": [
       "Flaws    Count  CumCnt  Percent  CumPct:\n",
       "Other        6       6     15.0     15.0\n",
       "Peel        15      21     37.5     52.5\n",
       "Scratch     13      34     32.5     85.0\n",
       "Smudge       6      40     15.0    100.0"
      ]
     },
     "execution_count": 6,
     "metadata": {},
     "output_type": "execute_result"
    }
   ],
   "source": [
    "# 2) 제품의 품질을 조사하여, cabbage 결함과 결함이 발생한 기간을 조사한 table입니다.\n",
    "# 범주형 데이터에 대해, counts, percents, cumulative counts, cumulative percents 계산 바랍니다.\n",
    "\n",
    "# Exh_QC1 데이터 가져오기\n",
    "ds_Exh_QC1= pd.read_csv(\"C:\\\\Users\\\\Administrator\\\\Untitled Folder\\\\statistics_1day/Exh_QC1.csv\", engine=\"python\")\n",
    "df=ds_Exh_QC1[['Flaws', 'Period']]\n",
    "\n",
    "# Flaws변수 Count: value_count, 순서대로 정렬: sort_index\n",
    "count=df['Flaws'].value_counts().sort_index()\n",
    "\n",
    "# CumCnt 계산: cumsum\n",
    "cumcnt=np.cumsum(count)\n",
    "# Percent 계산: 직접\n",
    "percent=count/sum(count)*100\n",
    "# CumPct 계산: cumsum\n",
    "cumpct=np.cumsum(percent)\n",
    "# DataFrame으로 취합\n",
    "count_data=pd.DataFrame({'Count':count, 'CumCnt':cumcnt, 'Percent':percent, 'CumPct:':cumpct})\n",
    "# Column의 name(좌측상단 이름) 생성\n",
    "count_data.columns.name='Flaws'\n",
    "count_data\n"
   ]
  },
  {
   "cell_type": "code",
   "execution_count": 7,
   "metadata": {},
   "outputs": [
    {
     "data": {
      "text/html": [
       "<div>\n",
       "<style scoped>\n",
       "    .dataframe tbody tr th:only-of-type {\n",
       "        vertical-align: middle;\n",
       "    }\n",
       "\n",
       "    .dataframe tbody tr th {\n",
       "        vertical-align: top;\n",
       "    }\n",
       "\n",
       "    .dataframe thead th {\n",
       "        text-align: right;\n",
       "    }\n",
       "</style>\n",
       "<table border=\"1\" class=\"dataframe\">\n",
       "  <thead>\n",
       "    <tr style=\"text-align: right;\">\n",
       "      <th>Period</th>\n",
       "      <th>Count</th>\n",
       "      <th>CumCnt</th>\n",
       "      <th>Percent</th>\n",
       "      <th>CumPct:</th>\n",
       "    </tr>\n",
       "  </thead>\n",
       "  <tbody>\n",
       "    <tr>\n",
       "      <th>Day</th>\n",
       "      <td>7</td>\n",
       "      <td>7</td>\n",
       "      <td>17.5</td>\n",
       "      <td>17.5</td>\n",
       "    </tr>\n",
       "    <tr>\n",
       "      <th>Evening</th>\n",
       "      <td>7</td>\n",
       "      <td>14</td>\n",
       "      <td>17.5</td>\n",
       "      <td>35.0</td>\n",
       "    </tr>\n",
       "    <tr>\n",
       "      <th>Night</th>\n",
       "      <td>19</td>\n",
       "      <td>33</td>\n",
       "      <td>47.5</td>\n",
       "      <td>82.5</td>\n",
       "    </tr>\n",
       "    <tr>\n",
       "      <th>Weekend</th>\n",
       "      <td>7</td>\n",
       "      <td>40</td>\n",
       "      <td>17.5</td>\n",
       "      <td>100.0</td>\n",
       "    </tr>\n",
       "  </tbody>\n",
       "</table>\n",
       "</div>"
      ],
      "text/plain": [
       "Period   Count  CumCnt  Percent  CumPct:\n",
       "Day          7       7     17.5     17.5\n",
       "Evening      7      14     17.5     35.0\n",
       "Night       19      33     47.5     82.5\n",
       "Weekend      7      40     17.5    100.0"
      ]
     },
     "execution_count": 7,
     "metadata": {},
     "output_type": "execute_result"
    }
   ],
   "source": [
    "# Period 변수 Count: value_count, 순서대로 정렬: sort_index\n",
    "count2=df['Period'].value_counts().sort_index()\n",
    "# CumCnt 계산: cumsum\n",
    "cumcnt2=np.cumsum(count2)\n",
    "# percent 계산: 직접\n",
    "percent2=count2/sum(count2)*100\n",
    "# CumPct 계산: cumsum\n",
    "cumpct2=np.cumsum(percent2)\n",
    "# DataFrame으로 취합\n",
    "count_data2=pd.DataFrame({'Count':count2, 'CumCnt':cumcnt2, 'Percent':percent2, 'CumPct:':cumpct2})\n",
    "# Column의 name(좌측상단 이름) 생성\n",
    "count_data2.columns.name='Period'\n",
    "count_data2"
   ]
  },
  {
   "cell_type": "markdown",
   "metadata": {},
   "source": [
    "# 2. 확률분포"
   ]
  },
  {
   "cell_type": "code",
   "execution_count": 9,
   "metadata": {},
   "outputs": [],
   "source": [
    "import numpy as np\n",
    "from scipy import stats\n",
    "import scipy.stats\n",
    "import pandas as pd\n",
    "import statsmodels.api as sm\n",
    "import matplotlib.pyplot as plt\n",
    "import seaborn as sns\n",
    "from statsmodels.stats.proportion import proportions_ztest"
   ]
  },
  {
   "cell_type": "markdown",
   "metadata": {},
   "source": [
    "## 1) 정규분포의 확률계산\n",
    "### A/S 작업을 수행하는데 걸리는 시간을 측정해 본 결과 평균 115분, 표준편차 20분이 소요된다는 것을 알았음. \n",
    "### 만일 A/S 작업시간의 허용범위가 135분 이내라면 135분 이상 걸리는 A/S 작업 비율은 어느 정도일까요?\n"
   ]
  },
  {
   "cell_type": "code",
   "execution_count": 10,
   "metadata": {},
   "outputs": [
    {
     "name": "stdout",
     "output_type": "stream",
     "text": [
      "135분 이상 걸리는 A/S 작업 비율: 15.9%\n"
     ]
    }
   ],
   "source": [
    "# 누적확률 값 계산\n",
    "# 모집단 평균\n",
    "mu=115\n",
    "# 모집단 표준편차\n",
    "sigma=20\n",
    "# 구하고자 하는 확률밀도함수값\n",
    "x=135\n",
    "prob=stats.norm.cdf(x, mu, sigma)\n",
    "print(\"{0}분 이상 걸리는 A/S 작업 비율: {1:.1f}%\".format(x, (1-prob)*100))"
   ]
  },
  {
   "cell_type": "markdown",
   "metadata": {},
   "source": [
    "### 대한민국 남성의 20~30대 키를 측정한 결과, 평균 175cm, 표준편차 5cm이다. \n",
    "### 나의 키가 180cm일 경우에 나는 몇 % 범위에 위치할까요?"
   ]
  },
  {
   "cell_type": "code",
   "execution_count": 13,
   "metadata": {},
   "outputs": [
    {
     "name": "stdout",
     "output_type": "stream",
     "text": [
      "84.1344746068543\n"
     ]
    }
   ],
   "source": [
    "# 누적확률 값 계산\n",
    "mu=175\n",
    "# 모집단 표준편차\n",
    "sigma=5\n",
    "# 구하고자 하는 확률밀도함수값\n",
    "x=180\n",
    "prob=stats.norm.cdf(x, mu, sigma)\n",
    "print(prob*100)"
   ]
  },
  {
   "cell_type": "markdown",
   "metadata": {},
   "source": [
    "### 어떤 자동차 1리터당 주행거리가 평균 12km, 표준편차 3km인 정규분포를 이룬다고 하자.\n",
    "### 1) 1리터를 가지고 12km 이상 15km 이하를 달릴 확률은 얼마인가요?\n",
    "### 2) 1리터를 가지고 15km 이상을 달릴 확률은 얼마인가요?"
   ]
  },
  {
   "cell_type": "code",
   "execution_count": 14,
   "metadata": {},
   "outputs": [
    {
     "name": "stdout",
     "output_type": "stream",
     "text": [
      "9km 이상 15km 이하를 달릴 확률은 0.683에 해당함\n",
      "15km 이상을 달릴 확률은 0.159에 해당함\n"
     ]
    }
   ],
   "source": [
    "# 모집단 평균\n",
    "mu=12\n",
    "# 모집단 표준편차\n",
    "sigma=3\n",
    "# 구하고자 하는 확률밀도함수값\n",
    "x0=9\n",
    "x1=15\n",
    "# prob1 : 누적확률 15이하 값 계산\n",
    "# cdf : Cumulative Distribution Function, 누적 분포 함수\n",
    "prob1=stats.norm.cdf(x1, mu, sigma)\n",
    "prob2=stats.norm.cdf(x0, mu, sigma)\n",
    "print(\"{0}km 이상 {1}km 이하를 달릴 확률은 {2:.3f}에 해당함\".format(x0, x1, (prob1-prob2)))\n",
    "print(\"{0}km 이상을 달릴 확률은 {1:.3f}에 해당함\".format(x1, (1-prob1)))\n",
    "# 확률인지 비율인지 확실히 확인할 것 ! 비율이면 *100 후 %"
   ]
  },
  {
   "cell_type": "markdown",
   "metadata": {},
   "source": [
    "## 2) t분포 -> 모집단의 평균 추정, 검정. 모집단의 특성을 알 때 정규분포, 특성을 모를 때 t분포"
   ]
  },
  {
   "cell_type": "markdown",
   "metadata": {},
   "source": [
    "### 확률변수 t는 자유도가 100인 t-분포를 따른다. t값이 2.0일 때, P(T<=t)을 계산하시오"
   ]
  },
  {
   "cell_type": "code",
   "execution_count": 17,
   "metadata": {},
   "outputs": [
    {
     "name": "stdout",
     "output_type": "stream",
     "text": [
      "P(T<=F):0.935\n"
     ]
    }
   ],
   "source": [
    "# 확률변수\n",
    "t=1.53\n",
    "# 자유도\n",
    "df=100\n",
    "# 누적확률 값 계산\n",
    "prob=stats.t.cdf(t, df)\n",
    "# P는 확률밀도값\n",
    "print(\"P(T<=F):{:.3f}\".format(prob)) "
   ]
  },
  {
   "cell_type": "markdown",
   "metadata": {},
   "source": [
    "## 3) 카이제곱(x^2) 분포 -> 모집단 분산 추정. 크기가 n인 표본을 무작위로 반복하여 추출\n",
    "## 빈도 기반의 분포 또는 형태 적합도 검정(선호도 검사), 여러 집단 간의 독립성/동질성 검정"
   ]
  },
  {
   "cell_type": "markdown",
   "metadata": {},
   "source": [
    "### 확률변수 x^2는 자유도가 8인 x^2(카이제곱) 분포를 따른다. x^2값이 3.0일 때, P(X<=x^2)을 계산하시오."
   ]
  },
  {
   "cell_type": "code",
   "execution_count": 18,
   "metadata": {},
   "outputs": [
    {
     "name": "stdout",
     "output_type": "stream",
     "text": [
      "P<=3 : 0.0656\n"
     ]
    }
   ],
   "source": [
    "# 카이스퀘어 값\n",
    "chisq=3\n",
    "# 자유도\n",
    "df=8\n",
    "# 누적확률 계산\n",
    "prob=stats.chi2.cdf(chisq, df)\n",
    "# P= 확률밀도값\n",
    "print(\"P<={0} : {1:.4f}\".format(chisq,prob))"
   ]
  },
  {
   "cell_type": "markdown",
   "metadata": {},
   "source": [
    "## 4) f분포 -> 분산이 같은 두 정규모집단으로부터 크기 n1과 n2의 확률표본을 반복하여 \n",
    "## 독립적으로 추출한 후, 구한 두 표본분산의 비율들의 표본분포\n",
    "## 즉, 두 집단의 분산비를 구할 떄 활용\n",
    "## ANOVA에서는 그룹 내 변동과 그룹간 변동으로 여러 개의 평균값을 비교하는데 활용\n",
    "## 회귀분석에서 t분포는 개별 회귀계수의 유의성을 검정하는데 쓰이고, 회귀모형 자체의 유의성 검정\n",
    "## t분포를 제곱하면 F분포를 하게 된다"
   ]
  },
  {
   "cell_type": "markdown",
   "metadata": {},
   "source": [
    "### 확률변수 F는 각각 자유도가 15, 15인 F-분포를 따른다. F값이 2.0일 때, P(X<=F)을 계산하시오."
   ]
  },
  {
   "cell_type": "code",
   "execution_count": 22,
   "metadata": {},
   "outputs": [
    {
     "name": "stdout",
     "output_type": "stream",
     "text": [
      "P(T<=F): 0.904\n"
     ]
    }
   ],
   "source": [
    "# f분포\n",
    "f=2.0\n",
    "# 자유도\n",
    "dfnum=15\n",
    "dfden=15\n",
    "# 누적확률 값 계산\n",
    "prob=stats.f.cdf(x=f, dfn=dfnum, dfd=dfden)\n",
    "print(\"P(T<=F): {:.3f}\".format(prob))\n",
    "\n",
    "# 분산2가 분산1의 2배가 되는 지점까지의 누적확률"
   ]
  },
  {
   "cell_type": "markdown",
   "metadata": {},
   "source": [
    "## 5) 와이블 분포 -> 지수분포를 보다 일반화시켜, 여러 다양한 확률분포 형태를 모두 나타낼 수 있도록 고안\n",
    "## 특히 신뢰성 분야의 응용에서 자주 사용됨, 부품의 고장까지의 시간 혹은 수명 등..."
   ]
  },
  {
   "cell_type": "markdown",
   "metadata": {},
   "source": [
    "### 어떤 제품의 수명시간 x가 형상모수 2.2, 척도모수 1,200인 와이블 분포를 따른다고 할 때, \n",
    "### 이 제품이 적어도 1,500시간 이상 작동할 확률을 구하라\n"
   ]
  },
  {
   "cell_type": "code",
   "execution_count": 27,
   "metadata": {},
   "outputs": [
    {
     "name": "stdout",
     "output_type": "stream",
     "text": [
      "P(X<=x):0.195\n"
     ]
    }
   ],
   "source": [
    "# 구하고자 하는 수명시간\n",
    "x=1500\n",
    "# 형상모수\n",
    "alpha=2.2\n",
    "# 척도모수\n",
    "beta=1200\n",
    "\n",
    "prob=stats.weibull_min.cdf(x, alpha, scale=beta)\n",
    "print(\"P(X<=x):{:.3f}\".format(1-prob))"
   ]
  },
  {
   "cell_type": "markdown",
   "metadata": {},
   "source": [
    "## 6) 베르누이 -> 1번 실행\n"
   ]
  },
  {
   "cell_type": "markdown",
   "metadata": {},
   "source": [
    "## 7) 이항분포 -> 베르누이를 n번 시행"
   ]
  },
  {
   "cell_type": "markdown",
   "metadata": {},
   "source": [
    "### 도장공정에서 광택도 불량이 40%나 된다고 함\n",
    "### 3대의 차량을 임의로 선택했을 때 불량대수가 각각 0,1,2,3대가 나올 확률은 얼마인가요?\n"
   ]
  },
  {
   "cell_type": "code",
   "execution_count": 28,
   "metadata": {},
   "outputs": [
    {
     "name": "stdout",
     "output_type": "stream",
     "text": [
      "P(X=0)=0.216\n",
      "P(X=1)=0.432\n",
      "P(X=2)=0.288\n",
      "P(X=3)=0.064\n"
     ]
    }
   ],
   "source": [
    "# n의 수\n",
    "n=3\n",
    "for i in range(n+1):\n",
    "    # 이항분포 Probability Mass Function\n",
    "    # k = 구하고자 하는 경우의 수의 확률\n",
    "    # n = 표본 수\n",
    "    # p = 불량율\n",
    "    prob = stats.binom.pmf(k=i, n=n, p=0.4)\n",
    "    print(\"P(X={0})={1:.3f}\".format(i, prob))"
   ]
  },
  {
   "cell_type": "markdown",
   "metadata": {},
   "source": [
    "## 8) 포아송 분포 -> 일정한 시간 또는 일정한 공간에서 발생하는 성공횟수에 대한 이산확률분포\n",
    "## 쉽게 말하면 일정 시간/공간에서의 사건 발생 확률 예측. 연속형에서 못씀"
   ]
  },
  {
   "cell_type": "markdown",
   "metadata": {},
   "source": [
    "### 어느 전화 교환대에는 1분당 평균 2회의 전화가 걸려 온다고 한다. 전화의 도착 횟수가 포아송 분포를 따른다면\n",
    "### - 이 교환대에 1분당 3번의 전화가 걸려올 확률은?\n",
    "### - 이 교환대에 1분당 최대 2회 이하의 전화가 걸려올 확률은?"
   ]
  },
  {
   "cell_type": "code",
   "execution_count": 31,
   "metadata": {},
   "outputs": [
    {
     "name": "stdout",
     "output_type": "stream",
     "text": [
      "1분당 3번의 전화가 걸려올 확률: 0.180\n",
      "1분당 최대 2번 이하의 전화가 걸려올 확률: 0.677\n"
     ]
    }
   ],
   "source": [
    "# 모집단 평균\n",
    "mu=2\n",
    "\n",
    "prob=stats.poisson.pmf(3, mu)\n",
    "\n",
    "cdf_prob=stats.poisson.cdf(2, mu)\n",
    "\n",
    "print(\"1분당 {0}번의 전화가 걸려올 확률: {1:.3f}\".format(3, prob))\n",
    "\n",
    "print(\"1분당 최대 {0}번 이하의 전화가 걸려올 확률: {1:.3f}\".format(2, cdf_prob))"
   ]
  },
  {
   "cell_type": "markdown",
   "metadata": {},
   "source": [
    "# 3. 표본분포"
   ]
  },
  {
   "cell_type": "markdown",
   "metadata": {},
   "source": [
    "# 4. 통계적 추론과 검정"
   ]
  },
  {
   "cell_type": "markdown",
   "metadata": {},
   "source": [
    "## 1) 정규성 검정"
   ]
  },
  {
   "cell_type": "markdown",
   "metadata": {},
   "source": [
    "### 1. 실습파일 2sample_t_test.csv을 불러온다.\n",
    "### 2. 변수 Mat_A와 Mat_B에 대해 정규성을 검정합니다."
   ]
  },
  {
   "cell_type": "code",
   "execution_count": 33,
   "metadata": {},
   "outputs": [
    {
     "name": "stdout",
     "output_type": "stream",
     "text": [
      "Shapiro-Wilk Test: statistic=0.9062638878822327, p-value=0.25630074739456177\n",
      "Shapiro-Wilk Test: statistic=0.9729756116867065, p-value=0.9169799089431763\n"
     ]
    }
   ],
   "source": [
    "from statsmodels.stats.proportion import proportions_ztest\n",
    "# df1=df.dropna()\n",
    "from scipy.stats import shapiro\n",
    "ds_sample=pd.read_csv(\"C:\\\\Users\\\\Administrator\\\\Untitled Folder\\\\statistics_1day/2sample_t_test.csv\", engine = \"python\")\n",
    "# dropna는 빈 데이터 삭제\n",
    "# fillna는 빈 데이터에 값 넣기\n",
    "ds_sample=ds_sample.dropna()\n",
    "data1=ds_sample['Mat_A']\n",
    "# Mat_A 정규성 검정\n",
    "shapiro(data1)\n",
    "statistic, p=stats.shapiro(data1)\n",
    "print(\"Shapiro-Wilk Test: statistic={0}, p-value={1}\".format(statistic, p))\n",
    "\n",
    "data2=ds_sample['Mat_B']\n",
    "# Mat_B 정규성 검정\n",
    "shapiro(data2)\n",
    "# statistic은 검정 통계량(X값), p = p-value\n",
    "statistic, p=stats.shapiro(data2)\n",
    "print(\"Shapiro-Wilk Test: statistic={0}, p-value={1}\".format(statistic, p))\n"
   ]
  },
  {
   "cell_type": "markdown",
   "metadata": {},
   "source": [
    "### 모평균 추정(모표준편차 아는 경우)"
   ]
  },
  {
   "cell_type": "code",
   "execution_count": 35,
   "metadata": {},
   "outputs": [
    {
     "name": "stdout",
     "output_type": "stream",
     "text": [
      "신뢰구간: ([2.57], [2.82])\n"
     ]
    }
   ],
   "source": [
    "# df를 직접 입력\n",
    "df=pd.DataFrame({\"sample\": [3.6, 2.9, 2.8, 2.6, 3.4, 3.2, 2.2, 2.6, 2.6, 2.4, 2.4, 2.6, 3.4, 2.4, 2.1, 2.6, 3.0, 2.4, 2.7, 2.4, 2.6, 2.9, 2.9, 2.0, 2.7, 2.2, 2.8, 2.7, 1.8, 2.5, 3.0, 3.2, 2.8, 2.6, 3.2, 3.1, 2.9, 2.7, 2.7, 2.2]})\n",
    "df.head()\n",
    "# 정규분포 구간 추정 함수 실행\n",
    "# loc= 표본평균, scale=표쥰오차\n",
    "lower, upper=stats.norm.interval(0.95, loc=np.mean(df), scale=0.397/np.sqrt(40))\n",
    "print(\"신뢰구간: ({0}, {1})\".format(lower.round(2), upper.round(2)))"
   ]
  },
  {
   "cell_type": "markdown",
   "metadata": {},
   "source": [
    "### 모평균 추정(모표준편차 모르는 경우)"
   ]
  },
  {
   "cell_type": "code",
   "execution_count": 37,
   "metadata": {},
   "outputs": [
    {
     "name": "stdout",
     "output_type": "stream",
     "text": [
      "신뢰구간: ([54.39], [55.33])\n"
     ]
    }
   ],
   "source": [
    "# df를 직접 입력\n",
    "df=pd.DataFrame({'sample':[54.1, 53.3, 56.1, 55.7, 54.0, 54.1, 54.5, 57.1, 55.2, 53.8, 54.1, 54.1, 56.1, 55.0, 55.9, 56.0, 54.9, 54.3, 53.9, 55.0]})\n",
    "\n",
    "# 정규분포 구간 추정 함수 실행\n",
    "# len(df)-1은 자유도, loc=표본평균, scale=표준오차, sem(standard error of mean)=평균표준오차 s/square(n)\n",
    "lower, upper=stats.t.interval(0.95, len(df)-1, loc=np.mean(df), scale=scipy.stats.sem(df))\n",
    "print(\"신뢰구간: ({0}, {1})\".format(lower.round(2), upper.round(2)))"
   ]
  },
  {
   "cell_type": "code",
   "execution_count": null,
   "metadata": {},
   "outputs": [],
   "source": [
    "prop=stats.chi2.ppf(0.05->유의수준, 9->자유도)\n",
    "prop\n",
    "prop=stats.norm.ppf(0.25, 10)\n",
    "shapiro(df1) -> 정규성 검정"
   ]
  }
 ],
 "metadata": {
  "kernelspec": {
   "display_name": "Python 3",
   "language": "python",
   "name": "python3"
  },
  "language_info": {
   "codemirror_mode": {
    "name": "ipython",
    "version": 3
   },
   "file_extension": ".py",
   "mimetype": "text/x-python",
   "name": "python",
   "nbconvert_exporter": "python",
   "pygments_lexer": "ipython3",
   "version": "3.8.3"
  }
 },
 "nbformat": 4,
 "nbformat_minor": 4
}
