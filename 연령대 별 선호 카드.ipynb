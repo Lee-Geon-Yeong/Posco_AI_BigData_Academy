{
 "cells": [
  {
   "cell_type": "code",
   "execution_count": 4,
   "metadata": {},
   "outputs": [],
   "source": [
    "import pandas as pd\n",
    "\n",
    "b = pd.read_csv(\"./000_Card_Spending.csv\")\n",
    "b[\"연령대\"] = b[\"연령\"] // 10 * 10"
   ]
  },
  {
   "cell_type": "code",
   "execution_count": 12,
   "metadata": {},
   "outputs": [
    {
     "data": {
      "text/plain": [
       "37    5.405603\n",
       "35    5.317606\n",
       "34    5.308339\n",
       "36    5.298053\n",
       "44    4.518001\n",
       "45    3.937077\n",
       "51    3.817760\n",
       "71    3.713553\n",
       "42    3.649165\n",
       "46    3.637954\n",
       "Name: 사용카드, dtype: float64"
      ]
     },
     "execution_count": 12,
     "metadata": {},
     "output_type": "execute_result"
    }
   ],
   "source": [
    "aaa = b[b[\"연령대\"] == 20][\"사용카드\"].value_counts() / b[b[\"연령대\"] == 20][\"사용카드\"].value_counts().sum()\n",
    "bbb = b[\"사용카드\"].value_counts() / b[\"사용카드\"].value_counts().sum()\n",
    "\n",
    "ccc = aaa / bbb\n",
    "ccc.sort_values(ascending = False)[:10]"
   ]
  },
  {
   "cell_type": "code",
   "execution_count": 13,
   "metadata": {},
   "outputs": [
    {
     "data": {
      "text/plain": [
       "21     1.728279\n",
       "50     1.616599\n",
       "16     1.604420\n",
       "18     1.582740\n",
       "77     1.570076\n",
       "229    1.562066\n",
       "159    1.553419\n",
       "193    1.533437\n",
       "53     1.530813\n",
       "222    1.498897\n",
       "Name: 사용카드, dtype: float64"
      ]
     },
     "execution_count": 13,
     "metadata": {},
     "output_type": "execute_result"
    }
   ],
   "source": [
    "aaa = b[b[\"연령대\"] == 30][\"사용카드\"].value_counts() / b[b[\"연령대\"] == 30][\"사용카드\"].value_counts().sum()\n",
    "bbb = b[\"사용카드\"].value_counts() / b[\"사용카드\"].value_counts().sum()\n",
    "\n",
    "ccc = aaa / bbb\n",
    "ccc.sort_values(ascending = False)[:10]"
   ]
  },
  {
   "cell_type": "code",
   "execution_count": 14,
   "metadata": {},
   "outputs": [
    {
     "data": {
      "text/plain": [
       "158    1.702950\n",
       "49     1.693147\n",
       "242    1.680023\n",
       "177    1.606321\n",
       "15     1.590009\n",
       "137    1.558736\n",
       "244    1.511559\n",
       "20     1.459208\n",
       "187    1.453850\n",
       "64     1.446963\n",
       "Name: 사용카드, dtype: float64"
      ]
     },
     "execution_count": 14,
     "metadata": {},
     "output_type": "execute_result"
    }
   ],
   "source": [
    "aaa = b[b[\"연령대\"] == 40][\"사용카드\"].value_counts() / b[b[\"연령대\"] == 40][\"사용카드\"].value_counts().sum()\n",
    "bbb = b[\"사용카드\"].value_counts() / b[\"사용카드\"].value_counts().sum()\n",
    "\n",
    "ccc = aaa / bbb\n",
    "ccc.sort_values(ascending = False)[:10]"
   ]
  },
  {
   "cell_type": "code",
   "execution_count": 15,
   "metadata": {},
   "outputs": [
    {
     "data": {
      "text/plain": [
       "48     2.016202\n",
       "15     1.838244\n",
       "14     1.784282\n",
       "241    1.659042\n",
       "136    1.629706\n",
       "157    1.555768\n",
       "70     1.550758\n",
       "68     1.546792\n",
       "186    1.517046\n",
       "215    1.435905\n",
       "Name: 사용카드, dtype: float64"
      ]
     },
     "execution_count": 15,
     "metadata": {},
     "output_type": "execute_result"
    }
   ],
   "source": [
    "aaa = b[b[\"연령대\"] == 50][\"사용카드\"].value_counts() / b[b[\"연령대\"] == 50][\"사용카드\"].value_counts().sum()\n",
    "bbb = b[\"사용카드\"].value_counts() / b[\"사용카드\"].value_counts().sum()\n",
    "\n",
    "ccc = aaa / bbb\n",
    "ccc.sort_values(ascending = False)[:10]"
   ]
  },
  {
   "cell_type": "code",
   "execution_count": 9,
   "metadata": {},
   "outputs": [
    {
     "data": {
      "text/plain": [
       "14     2.305902\n",
       "162    1.898836\n",
       "240    1.811592\n",
       "176    1.736255\n",
       "214    1.683124\n",
       "         ...   \n",
       "37     0.105218\n",
       "35     0.088917\n",
       "36     0.064340\n",
       "34     0.040572\n",
       "263         NaN\n",
       "Name: 사용카드, Length: 264, dtype: float64"
      ]
     },
     "execution_count": 9,
     "metadata": {},
     "output_type": "execute_result"
    }
   ],
   "source": [
    "aaa = b[b[\"연령대\"] == 60][\"사용카드\"].value_counts() / b[b[\"연령대\"] == 60][\"사용카드\"].value_counts().sum()\n",
    "bbb = b[\"사용카드\"].value_counts() / b[\"사용카드\"].value_counts().sum()\n",
    "\n",
    "ccc = aaa / bbb\n",
    "ccc.sort_values(ascending = False)[:10]"
   ]
  },
  {
   "cell_type": "code",
   "execution_count": 10,
   "metadata": {},
   "outputs": [
    {
     "data": {
      "text/plain": [
       "131    7.720494\n",
       "156    7.421541\n",
       "155    5.431880\n",
       "130    5.427876\n",
       "133    4.638388\n",
       "         ...   \n",
       "60          NaN\n",
       "63          NaN\n",
       "65          NaN\n",
       "258         NaN\n",
       "263         NaN\n",
       "Name: 사용카드, Length: 264, dtype: float64"
      ]
     },
     "execution_count": 10,
     "metadata": {},
     "output_type": "execute_result"
    }
   ],
   "source": [
    "aaa = b[b[\"연령대\"] == 70][\"사용카드\"].value_counts() / b[b[\"연령대\"] == 70][\"사용카드\"].value_counts().sum()\n",
    "bbb = b[\"사용카드\"].value_counts() / b[\"사용카드\"].value_counts().sum()\n",
    "\n",
    "ccc = aaa / bbb\n",
    "ccc.sort_values(ascending = False)"
   ]
  },
  {
   "cell_type": "code",
   "execution_count": 11,
   "metadata": {},
   "outputs": [
    {
     "data": {
      "text/plain": [
       "37     5.405603\n",
       "35     5.317606\n",
       "34     5.308339\n",
       "36     5.298053\n",
       "44     4.518001\n",
       "         ...   \n",
       "160    0.178515\n",
       "164    0.176783\n",
       "159    0.174041\n",
       "158    0.139604\n",
       "263         NaN\n",
       "Name: 사용카드, Length: 264, dtype: float64"
      ]
     },
     "execution_count": 11,
     "metadata": {},
     "output_type": "execute_result"
    }
   ],
   "source": [
    "aaa = b[b[\"연령대\"] == 20][\"사용카드\"].value_counts() / b[b[\"연령대\"] == 20][\"사용카드\"].value_counts().sum()\n",
    "bbb = b[\"사용카드\"].value_counts() / b[\"사용카드\"].value_counts().sum()\n",
    "\n",
    "ccc = aaa / bbb\n",
    "ccc.sort_values(ascending = False)"
   ]
  },
  {
   "cell_type": "code",
   "execution_count": null,
   "metadata": {},
   "outputs": [],
   "source": []
  }
 ],
 "metadata": {
  "kernelspec": {
   "display_name": "Python 3",
   "language": "python",
   "name": "python3"
  },
  "language_info": {
   "codemirror_mode": {
    "name": "ipython",
    "version": 3
   },
   "file_extension": ".py",
   "mimetype": "text/x-python",
   "name": "python",
   "nbconvert_exporter": "python",
   "pygments_lexer": "ipython3",
   "version": "3.8.5"
  }
 },
 "nbformat": 4,
 "nbformat_minor": 4
}
