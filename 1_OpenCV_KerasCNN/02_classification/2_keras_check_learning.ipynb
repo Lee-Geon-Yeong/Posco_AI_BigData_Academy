{
 "cells": [
  {
   "cell_type": "markdown",
   "metadata": {},
   "source": [
    "# 2.1 Keras 학습과정 확인\n",
    "이번 실습에서는 모델이 학습하는 동안 변화하는 학습양상을 확인하는 방법을 알아본다  "
   ]
  },
  {
   "cell_type": "code",
   "execution_count": 1,
   "metadata": {},
   "outputs": [],
   "source": [
    "import tensorflow.keras.utils as utils\n",
    "from tensorflow.keras import datasets\n",
    "from tensorflow.keras.models import Sequential, Model\n",
    "from tensorflow.keras.layers import Input, Dense, Activation\n",
    "\n",
    "import os\n",
    "import numpy as np\n",
    "import matplotlib.pyplot as plt\n",
    "%matplotlib inline"
   ]
  },
  {
   "cell_type": "code",
   "execution_count": 2,
   "metadata": {},
   "outputs": [],
   "source": [
    "(X_train, Y_train),(X_test, Y_test) = datasets.mnist.load_data()\n",
    "X_train_flat = X_train.reshape(60000, 28*28).astype('float32')/255.0\n",
    "X_test_flat = X_test.reshape(10000, 28*28).astype('float32')/255.0\n",
    "Y_train_onehot = utils.to_categorical(Y_train)\n",
    "Y_test_onehot = utils.to_categorical(Y_test)\n",
    "\n",
    "n_in = 28*28\n",
    "n_out = np.shape(Y_test_onehot)[1]"
   ]
  },
  {
   "cell_type": "code",
   "execution_count": 3,
   "metadata": {},
   "outputs": [],
   "source": [
    "def DNN_seq(n_in, n_out):\n",
    "    model = Sequential()\n",
    "    model.add(Dense(units =128, input_shape=(n_in,), activation='relu'))\n",
    "    model.add(Dense(units =32, activation='relu'))\n",
    "    model.add(Dense(units =n_out, activation='softmax'))\n",
    "    return model"
   ]
  },
  {
   "cell_type": "code",
   "execution_count": 4,
   "metadata": {},
   "outputs": [],
   "source": [
    "model = DNN_seq(n_in, n_out)\n",
    "model.compile(loss='categorical_crossentropy', optimizer='adam',metrics=['accuracy'])"
   ]
  },
  {
   "cell_type": "markdown",
   "metadata": {},
   "source": [
    "## (1) Keras Callback\n",
    "model의 fit() 함수로 학습을 진행하는 동안, 매 epoch마다 지정한 함수를 호출할 수 있음\n",
    "\n",
    "ModelCheckpoint : 학습 중 모델 저장\n",
    "\n",
    "EarlyStopping : 학습양상을 보고 학습을 조기에 종료\n",
    "\n",
    "TensorBoard : tensorboard로 확인할 수 있도록 학습양상을 기록\n",
    "\n",
    "외에 kereas.callbacks.Callback을 상속받아 원하는 callback 함수를 만들 수 있음\n",
    "    \n",
    "https://keras.io/callbacks/"
   ]
  },
  {
   "cell_type": "code",
   "execution_count": 5,
   "metadata": {},
   "outputs": [],
   "source": [
    "from tensorflow.keras.callbacks import ModelCheckpoint, EarlyStopping, LearningRateScheduler, TensorBoard\n",
    "import os\n",
    "import datetime"
   ]
  },
  {
   "cell_type": "markdown",
   "metadata": {},
   "source": [
    "학습과정을 저장할 directory 생성"
   ]
  },
  {
   "cell_type": "code",
   "execution_count": 6,
   "metadata": {},
   "outputs": [],
   "source": [
    "def make_dir(path):\n",
    "    today = str(datetime.date.today())\n",
    "    path_date = path+'/'+today\n",
    "    \n",
    "    if not os.path.exists(path_date):\n",
    "        os.makedirs(path_date)\n",
    "    return path_date"
   ]
  },
  {
   "cell_type": "code",
   "execution_count": 7,
   "metadata": {},
   "outputs": [
    {
     "name": "stdout",
     "output_type": "stream",
     "text": [
      "./model/2021-06-16/784_10_{epoch:02d}-{loss:.4f}_{val_loss:.4f}_{val_accuracy:.4f}.h5\n",
      "./tensorboard/2021-06-16\n"
     ]
    }
   ],
   "source": [
    "model_path=make_dir('./model')\n",
    "tensorboard_path=make_dir('./tensorboard')\n",
    "\n",
    "modelconfig = str(n_in)+'_'+str(n_out)\n",
    "model_name_path = model_path+'/'+modelconfig+\"_{epoch:02d}-{loss:.4f}_{val_loss:.4f}_{val_accuracy:.4f}.h5\"\n",
    "\n",
    "print(model_name_path)\n",
    "print(tensorboard_path)"
   ]
  },
  {
   "cell_type": "markdown",
   "metadata": {},
   "source": [
    "필요한 callback 함수들을 정의하고 list로 fit() 함수에 전달"
   ]
  },
  {
   "cell_type": "code",
   "execution_count": 8,
   "metadata": {},
   "outputs": [],
   "source": [
    "checkpointer=ModelCheckpoint(filepath=model_name_path, monitor='val_accuracy', verbose=0, save_best_only=True)\n",
    "tb_saver = TensorBoard(log_dir=tensorboard_path, write_graph=True)\n",
    "earlystopper = EarlyStopping(monitor='val_accuracy', patience=40, verbose=0, mode='auto')\n",
    "\n",
    "callback_list=[checkpointer, tb_saver, earlystopper]"
   ]
  },
  {
   "cell_type": "code",
   "execution_count": 9,
   "metadata": {
    "scrolled": true
   },
   "outputs": [
    {
     "name": "stdout",
     "output_type": "stream",
     "text": [
      "Epoch 1/50\n",
      "165/165 - 3s - loss: 0.5318 - accuracy: 0.8489 - val_loss: 0.2547 - val_accuracy: 0.9257\n",
      "Epoch 2/50\n",
      "165/165 - 1s - loss: 0.2123 - accuracy: 0.9393 - val_loss: 0.1924 - val_accuracy: 0.9434\n",
      "Epoch 3/50\n",
      "165/165 - 1s - loss: 0.1569 - accuracy: 0.9543 - val_loss: 0.1717 - val_accuracy: 0.9524\n",
      "Epoch 4/50\n",
      "165/165 - 1s - loss: 0.1231 - accuracy: 0.9654 - val_loss: 0.1435 - val_accuracy: 0.9576\n",
      "Epoch 5/50\n",
      "165/165 - 1s - loss: 0.1033 - accuracy: 0.9697 - val_loss: 0.1256 - val_accuracy: 0.9630\n",
      "Epoch 6/50\n",
      "165/165 - 1s - loss: 0.0835 - accuracy: 0.9757 - val_loss: 0.1157 - val_accuracy: 0.9657\n",
      "Epoch 7/50\n",
      "165/165 - 1s - loss: 0.0697 - accuracy: 0.9800 - val_loss: 0.1216 - val_accuracy: 0.9640\n",
      "Epoch 8/50\n",
      "165/165 - 1s - loss: 0.0639 - accuracy: 0.9813 - val_loss: 0.1087 - val_accuracy: 0.9686\n",
      "Epoch 9/50\n",
      "165/165 - 1s - loss: 0.0504 - accuracy: 0.9863 - val_loss: 0.1082 - val_accuracy: 0.9692\n",
      "Epoch 10/50\n",
      "165/165 - 1s - loss: 0.0422 - accuracy: 0.9890 - val_loss: 0.1038 - val_accuracy: 0.9698\n",
      "Epoch 11/50\n",
      "165/165 - 1s - loss: 0.0370 - accuracy: 0.9903 - val_loss: 0.1116 - val_accuracy: 0.9671\n",
      "Epoch 12/50\n",
      "165/165 - 1s - loss: 0.0339 - accuracy: 0.9908 - val_loss: 0.1078 - val_accuracy: 0.9692\n",
      "Epoch 13/50\n",
      "165/165 - 1s - loss: 0.0268 - accuracy: 0.9934 - val_loss: 0.1041 - val_accuracy: 0.9701\n",
      "Epoch 14/50\n",
      "165/165 - 1s - loss: 0.0223 - accuracy: 0.9954 - val_loss: 0.1055 - val_accuracy: 0.9701\n",
      "Epoch 15/50\n",
      "165/165 - 1s - loss: 0.0204 - accuracy: 0.9954 - val_loss: 0.1052 - val_accuracy: 0.9707\n",
      "Epoch 16/50\n",
      "165/165 - 1s - loss: 0.0178 - accuracy: 0.9960 - val_loss: 0.1118 - val_accuracy: 0.9706\n",
      "Epoch 17/50\n",
      "165/165 - 1s - loss: 0.0150 - accuracy: 0.9970 - val_loss: 0.1114 - val_accuracy: 0.9704\n",
      "Epoch 18/50\n",
      "165/165 - 1s - loss: 0.0135 - accuracy: 0.9973 - val_loss: 0.1137 - val_accuracy: 0.9702\n",
      "Epoch 19/50\n",
      "165/165 - 1s - loss: 0.0111 - accuracy: 0.9981 - val_loss: 0.1145 - val_accuracy: 0.9705\n",
      "Epoch 20/50\n",
      "165/165 - 1s - loss: 0.0092 - accuracy: 0.9984 - val_loss: 0.1155 - val_accuracy: 0.9707\n",
      "Epoch 21/50\n",
      "165/165 - 1s - loss: 0.0087 - accuracy: 0.9986 - val_loss: 0.1184 - val_accuracy: 0.9717\n",
      "Epoch 22/50\n",
      "165/165 - 1s - loss: 0.0074 - accuracy: 0.9987 - val_loss: 0.1209 - val_accuracy: 0.9706\n",
      "Epoch 23/50\n",
      "165/165 - 1s - loss: 0.0065 - accuracy: 0.9991 - val_loss: 0.1200 - val_accuracy: 0.9718\n",
      "Epoch 24/50\n",
      "165/165 - 1s - loss: 0.0056 - accuracy: 0.9993 - val_loss: 0.1201 - val_accuracy: 0.9719\n",
      "Epoch 25/50\n",
      "165/165 - 1s - loss: 0.0040 - accuracy: 0.9995 - val_loss: 0.1323 - val_accuracy: 0.9703\n",
      "Epoch 26/50\n",
      "165/165 - 1s - loss: 0.0051 - accuracy: 0.9992 - val_loss: 0.1261 - val_accuracy: 0.9728\n",
      "Epoch 27/50\n",
      "165/165 - 1s - loss: 0.0035 - accuracy: 0.9996 - val_loss: 0.1347 - val_accuracy: 0.9705\n",
      "Epoch 28/50\n",
      "165/165 - 1s - loss: 0.0025 - accuracy: 0.9998 - val_loss: 0.1359 - val_accuracy: 0.9716\n",
      "Epoch 29/50\n",
      "165/165 - 1s - loss: 0.0079 - accuracy: 0.9979 - val_loss: 0.1438 - val_accuracy: 0.9702\n",
      "Epoch 30/50\n",
      "165/165 - 1s - loss: 0.0100 - accuracy: 0.9967 - val_loss: 0.1516 - val_accuracy: 0.9679\n",
      "Epoch 31/50\n",
      "165/165 - 1s - loss: 0.0056 - accuracy: 0.9986 - val_loss: 0.1382 - val_accuracy: 0.9717\n",
      "Epoch 32/50\n",
      "165/165 - 1s - loss: 0.0024 - accuracy: 0.9997 - val_loss: 0.1354 - val_accuracy: 0.9729\n",
      "Epoch 33/50\n",
      "165/165 - 1s - loss: 0.0011 - accuracy: 1.0000 - val_loss: 0.1363 - val_accuracy: 0.9735\n",
      "Epoch 34/50\n",
      "165/165 - 1s - loss: 8.8384e-04 - accuracy: 1.0000 - val_loss: 0.1357 - val_accuracy: 0.9739\n",
      "Epoch 35/50\n",
      "165/165 - 1s - loss: 0.0099 - accuracy: 0.9969 - val_loss: 0.1458 - val_accuracy: 0.9712\n",
      "Epoch 36/50\n",
      "165/165 - 1s - loss: 0.0116 - accuracy: 0.9961 - val_loss: 0.1586 - val_accuracy: 0.9710\n",
      "Epoch 37/50\n",
      "165/165 - 1s - loss: 0.0045 - accuracy: 0.9989 - val_loss: 0.1441 - val_accuracy: 0.9727\n",
      "Epoch 38/50\n",
      "165/165 - 1s - loss: 0.0016 - accuracy: 0.9998 - val_loss: 0.1417 - val_accuracy: 0.9746\n",
      "Epoch 39/50\n",
      "165/165 - 1s - loss: 6.8655e-04 - accuracy: 1.0000 - val_loss: 0.1414 - val_accuracy: 0.9738\n",
      "Epoch 40/50\n",
      "165/165 - 1s - loss: 4.9959e-04 - accuracy: 1.0000 - val_loss: 0.1438 - val_accuracy: 0.9740\n",
      "Epoch 41/50\n",
      "165/165 - 1s - loss: 4.2549e-04 - accuracy: 1.0000 - val_loss: 0.1442 - val_accuracy: 0.9743\n",
      "Epoch 42/50\n",
      "165/165 - 1s - loss: 6.5222e-04 - accuracy: 1.0000 - val_loss: 0.1456 - val_accuracy: 0.9744\n",
      "Epoch 43/50\n",
      "165/165 - 1s - loss: 3.8741e-04 - accuracy: 1.0000 - val_loss: 0.1472 - val_accuracy: 0.9740\n",
      "Epoch 44/50\n",
      "165/165 - 1s - loss: 3.1534e-04 - accuracy: 1.0000 - val_loss: 0.1486 - val_accuracy: 0.9741\n",
      "Epoch 45/50\n",
      "165/165 - 1s - loss: 2.9323e-04 - accuracy: 1.0000 - val_loss: 0.1494 - val_accuracy: 0.9741\n",
      "Epoch 46/50\n",
      "165/165 - 1s - loss: 2.6485e-04 - accuracy: 1.0000 - val_loss: 0.1501 - val_accuracy: 0.9744\n",
      "Epoch 47/50\n",
      "165/165 - 1s - loss: 2.4384e-04 - accuracy: 1.0000 - val_loss: 0.1514 - val_accuracy: 0.9741\n",
      "Epoch 48/50\n",
      "165/165 - 1s - loss: 2.3269e-04 - accuracy: 1.0000 - val_loss: 0.1516 - val_accuracy: 0.9748\n",
      "Epoch 49/50\n",
      "165/165 - 1s - loss: 2.1068e-04 - accuracy: 1.0000 - val_loss: 0.1534 - val_accuracy: 0.9746\n",
      "Epoch 50/50\n",
      "165/165 - 1s - loss: 2.0317e-04 - accuracy: 1.0000 - val_loss: 0.1547 - val_accuracy: 0.9741\n"
     ]
    }
   ],
   "source": [
    "history = model.fit(X_train_flat, Y_train_onehot, batch_size=256, epochs=50, validation_split=0.3, verbose=2, callbacks = callback_list)"
   ]
  },
  {
   "cell_type": "code",
   "execution_count": 10,
   "metadata": {},
   "outputs": [
    {
     "data": {
      "text/plain": [
       "['784_10_01-0.5318_0.2547_0.9257.h5',\n",
       " '784_10_02-0.2123_0.1924_0.9434.h5',\n",
       " '784_10_03-0.1569_0.1717_0.9524.h5',\n",
       " '784_10_04-0.1231_0.1435_0.9576.h5',\n",
       " '784_10_05-0.1033_0.1256_0.9630.h5',\n",
       " '784_10_06-0.0835_0.1157_0.9657.h5',\n",
       " '784_10_08-0.0639_0.1087_0.9686.h5',\n",
       " '784_10_09-0.0504_0.1082_0.9692.h5',\n",
       " '784_10_10-0.0422_0.1038_0.9698.h5',\n",
       " '784_10_13-0.0268_0.1041_0.9701.h5',\n",
       " '784_10_15-0.0204_0.1052_0.9707.h5',\n",
       " '784_10_21-0.0087_0.1184_0.9717.h5',\n",
       " '784_10_23-0.0065_0.1200_0.9718.h5',\n",
       " '784_10_24-0.0056_0.1201_0.9719.h5',\n",
       " '784_10_26-0.0051_0.1261_0.9728.h5',\n",
       " '784_10_32-0.0024_0.1354_0.9729.h5',\n",
       " '784_10_33-0.0011_0.1363_0.9735.h5',\n",
       " '784_10_34-0.0009_0.1357_0.9739.h5',\n",
       " '784_10_38-0.0016_0.1417_0.9746.h5',\n",
       " '784_10_48-0.0002_0.1516_0.9748.h5']"
      ]
     },
     "execution_count": 10,
     "metadata": {},
     "output_type": "execute_result"
    }
   ],
   "source": [
    "os.listdir(model_path)"
   ]
  },
  {
   "cell_type": "code",
   "execution_count": 11,
   "metadata": {},
   "outputs": [
    {
     "data": {
      "text/plain": [
       "['train', 'validation']"
      ]
     },
     "execution_count": 11,
     "metadata": {},
     "output_type": "execute_result"
    }
   ],
   "source": [
    "os.listdir(tensorboard_path)"
   ]
  },
  {
   "cell_type": "markdown",
   "metadata": {},
   "source": [
    "## (2) history 확인\n",
    "fit() 함수는 history 객체를 반환함\n",
    "\n",
    "history['loss']: epoch 마다 기록되는 train loss\n",
    "\n",
    "history['accuracy'] : accuracy를 측정할 수 있는 문제이며 compile() 때 metric으로 accuracy를 지정하였다면 기록됨\n",
    "    \n",
    "history['val_loss'] : 검증 데이터가 있다면 기록되는 validation loss\n",
    "\n",
    "history['val_accuracy'] : 검증 데이터가 있고 accuracy를 측정할 수 있다면 기록되는 validation accuracy "
   ]
  },
  {
   "cell_type": "code",
   "execution_count": 12,
   "metadata": {},
   "outputs": [
    {
     "name": "stdout",
     "output_type": "stream",
     "text": [
      "[0.5318015217781067, 0.21227288246154785, 0.1569414585828781, 0.1231389194726944, 0.10334660857915878, 0.08348777890205383, 0.06968624889850616, 0.06385735422372818, 0.05035721883177757, 0.04220737889409065, 0.036993350833654404, 0.03392716124653816, 0.026845283806324005, 0.02233240194618702, 0.02037007361650467, 0.01777596026659012, 0.014951731078326702, 0.013452541083097458, 0.011108026839792728, 0.009176901541650295, 0.008677219972014427, 0.007387063931673765, 0.00645816745236516, 0.005581721663475037, 0.0040374817326664925, 0.005124938208609819, 0.003514954587444663, 0.0024928729981184006, 0.007873821072280407, 0.010011953301727772, 0.005588277708739042, 0.0024064695462584496, 0.0010743828024715185, 0.0008838354842737317, 0.009908078238368034, 0.011602244339883327, 0.004543607588857412, 0.0016168715665116906, 0.0006865492323413491, 0.0004995922208763659, 0.00042548528290353715, 0.0006522196345031261, 0.00038741453317925334, 0.000315336772473529, 0.00029322979389689863, 0.00026485303533263505, 0.00024383713025599718, 0.0002326922258362174, 0.00021067968918941915, 0.00020316991140134633]\n"
     ]
    }
   ],
   "source": [
    "print(history.history['loss'])"
   ]
  },
  {
   "cell_type": "markdown",
   "metadata": {},
   "source": [
    "matplotlib를 이용하여 history 객체 내부에 저장된 값들을 graph로 표현"
   ]
  },
  {
   "cell_type": "code",
   "execution_count": 13,
   "metadata": {},
   "outputs": [
    {
     "data": {
      "image/png": "[encoded data removed]",
      "text/plain": [
       "<Figure size 432x288 with 2 Axes>"
      ]
     },
     "metadata": {
      "needs_background": "light"
     },
     "output_type": "display_data"
    }
   ],
   "source": [
    "fig, loss_ax = plt.subplots()\n",
    "\n",
    "acc_ax = loss_ax.twinx()\n",
    "\n",
    "loss_ax.plot(history.history['loss'], 'y', label='train loss')\n",
    "loss_ax.plot(history.history['val_loss'], 'r', label='val loss')\n",
    "\n",
    "acc_ax.plot(history.history['accuracy'], 'b', label='train acc')\n",
    "acc_ax.plot(history.history['val_accuracy'], 'g', label='val acc')\n",
    "\n",
    "loss_ax.set_xlabel('epoch')\n",
    "loss_ax.set_ylabel('loss')\n",
    "acc_ax.set_ylabel('accuray')\n",
    "\n",
    "loss_ax.legend(loc='upper left')\n",
    "acc_ax.legend(loc='lower left')\n",
    "\n",
    "plt.show()"
   ]
  },
  {
   "cell_type": "code",
   "execution_count": 14,
   "metadata": {},
   "outputs": [],
   "source": [
    "fig_path=make_dir('./figure')\n",
    "fig.savefig(fig_path+'/'+'final'+'.png')"
   ]
  },
  {
   "cell_type": "markdown",
   "metadata": {},
   "source": [
    "## (3) 모델 저장하기, 불러오기\n",
    "저장하기 : model 객체의 내부 함수인 save() .h5 형식으로 저장할 수 있음 [1.모델의 구조, 2.학습된 파라미터, 3.complie() 설정]\n",
    "\n",
    "불러오기 : load_model 함수로 .h5 파일에서 모델을 불러올 수 있음"
   ]
  },
  {
   "cell_type": "code",
   "execution_count": 15,
   "metadata": {},
   "outputs": [],
   "source": [
    "from tensorflow.keras.models import load_model"
   ]
  },
  {
   "cell_type": "code",
   "execution_count": 17,
   "metadata": {},
   "outputs": [],
   "source": [
    "model = 1\n",
    "filename = os.listdir(model_path)[-1]\n",
    "model = load_model(model_path+'/'+filename)"
   ]
  },
  {
   "cell_type": "code",
   "execution_count": 18,
   "metadata": {},
   "outputs": [
    {
     "name": "stdout",
     "output_type": "stream",
     "text": [
      "Epoch 1/3\n",
      "165/165 - 1s - loss: 2.1607e-04 - accuracy: 1.0000 - val_loss: 0.1537 - val_accuracy: 0.9743\n",
      "Epoch 2/3\n",
      "165/165 - 0s - loss: 2.0178e-04 - accuracy: 1.0000 - val_loss: 0.1557 - val_accuracy: 0.9738\n",
      "Epoch 3/3\n",
      "165/165 - 0s - loss: 1.8562e-04 - accuracy: 1.0000 - val_loss: 0.1537 - val_accuracy: 0.9746\n"
     ]
    },
    {
     "data": {
      "text/plain": [
       "<tensorflow.python.keras.callbacks.History at 0x20edcd855b0>"
      ]
     },
     "execution_count": 18,
     "metadata": {},
     "output_type": "execute_result"
    }
   ],
   "source": [
    "model.fit(X_train_flat, Y_train_onehot, batch_size=256, epochs=3, validation_split=0.3, verbose=2)"
   ]
  },
  {
   "cell_type": "code",
   "execution_count": 19,
   "metadata": {},
   "outputs": [],
   "source": [
    "model.save(model_path+'/'+'latest_model.h5')"
   ]
  },
  {
   "cell_type": "code",
   "execution_count": null,
   "metadata": {},
   "outputs": [],
   "source": []
  }
 ],
 "metadata": {
  "kernelspec": {
   "display_name": "myenv",
   "language": "python",
   "name": "myenv"
  },
  "language_info": {
   "codemirror_mode": {
    "name": "ipython",
    "version": 3
   },
   "file_extension": ".py",
   "mimetype": "text/x-python",
   "name": "python",
   "nbconvert_exporter": "python",
   "pygments_lexer": "ipython3",
   "version": "3.8.10"
  }
 },
 "nbformat": 4,
 "nbformat_minor": 4
}
